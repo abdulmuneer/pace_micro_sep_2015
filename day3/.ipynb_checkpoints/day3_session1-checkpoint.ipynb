{
 "cells": [
  {
   "cell_type": "markdown",
   "metadata": {},
   "source": [
    "### Asynchronous Programming "
   ]
  },
  {
   "cell_type": "markdown",
   "metadata": {},
   "source": [
    "####Multiprocessing\n",
    "* Pros\n",
    "\n",
    "    - Separate memory space\n",
    "    - Code is usually straightforward\n",
    "    - Takes advantage of multiple CPUs & cores\n",
    "    - Avoids GIL limitations for cPython\n",
    "    - Eliminates most needs for synchronization primitives unless if you use shared memory (instead, it's more of a communication model for IPC)\n",
    "    - Child processes are interruptible/killable\n",
    "    - Python multiprocessing module includes useful abstractions with an interface much like threading.Thread\n",
    "    - A must with cPython for CPU-bound processing\n",
    "\n",
    "* Cons\n",
    "\n",
    "    - IPC a little more complicated with more overhead (communication model vs. shared memory/objects)\n",
    "    Larger memory footprint\n",
    "\n",
    "####Threading\n",
    "* Pros\n",
    "\n",
    "    - Lightweight - low memory footprint\n",
    "    - Shared memory - makes access to state from another context easier\n",
    "    - Allows you to easily make responsive UIs\n",
    "    - cPython C extension modules that properly release the GIL will run in parallel\n",
    "    - Great option for I/O-bound applications\n",
    "\n",
    "* Cons\n",
    "\n",
    "    - cPython - subject to the GIL\n",
    "    - Not interruptible/killable\n",
    "    - If not following a command queue/message pump model (using the Queue module), then manual use of synchronization primitives become a necessity (decisions are needed for the granularity of locking)\n",
    "    - Code is usually harder to understand and to get right - the potential for race conditions increases dramatically\n",
    "\n",
    "\n",
    "from: http://stackoverflow.com/a/3046201/842420"
   ]
  },
  {
   "cell_type": "code",
   "execution_count": 1,
   "metadata": {
    "collapsed": true
   },
   "outputs": [],
   "source": [
    "import multiprocessing\n",
    "\n",
    "def worker(num):\n",
    "    \"\"\"thread worker function\"\"\"\n",
    "    print 'Worker:', num\n",
    "    return\n",
    "\n",
    "if __name__ == '__main__':\n",
    "    jobs = []\n",
    "    for i in range(5):\n",
    "        p = multiprocessing.Process(target=worker, args=(i,))\n",
    "        jobs.append(p)\n",
    "        p.start()"
   ]
  },
  {
   "cell_type": "markdown",
   "metadata": {},
   "source": [
    "* multiprocessing\n",
    "\n",
    "Process([group [, target [, name [, args [, kwargs]]]]])\n",
    "\n",
    "- target is a callable object that will execute when the process starts\n",
    "- args is a tuple of positional arguments passed to target\n",
    "- kwargs is a dictionary of keyword arguments passed to target .\n",
    "- name is a string that gives a descriptive name to the process. \n",
    "- group is unused and is always set to None . Its presence here is simply to make the construction of a Process mimic the creation of a thread in the threading module.\n",
    "\n"
   ]
  },
  {
   "cell_type": "markdown",
   "metadata": {
    "collapsed": true
   },
   "source": [
    "One difference between the threading and multiprocessing examples is the extra protection for __main__ used in the multiprocessing examples. \n",
    "\n",
    "Due to the way the new processes are started, the child process needs to be able to import the script containing the target function. Wrapping the main part of the application in a check for __main__ ensures that it is not run recursively in each child as the module is imported. Another approach is to import the target function from a separate script."
   ]
  },
  {
   "cell_type": "markdown",
   "metadata": {},
   "source": [
    "An instance p of Process has the following methods:\n",
    "* p.is_alive()\n",
    "Returns True if p is still running.\n",
    "* p.join([timeout])\n",
    "Waits for process p to terminate. timeout specifies an optional timeout period. A\n",
    "process can be joined as many times as you wish, but it is an error for a process to try\n",
    "and join itself.\n",
    "* p.run()\n",
    "The method that runs when the process starts. By default, this invokes target that was\n",
    "passed to the Process constructor. As an alternative, a process can be defined by inher-\n",
    "iting from Process and reimplementing run() .\n",
    "* p.start()\n",
    "Starts the process.This launches the subprocess that represents the process and invokes p.run() in that subprocess.\n",
    "* p.terminate()\n",
    "Forcefully terminates the process. If this is invoked, the process p is terminated immedi-\n",
    "ately without performing any kind of cleanup actions. If the process p created sub-\n",
    "processes of its own, those processes will turn into zombies. Some care is required when\n",
    "using this method. If p holds a lock or is involved with interprocess communication,\n",
    "terminating it might cause a deadlock or corrupted I/O.\n",
    "A Process instance p also has the following data attributes:\n",
    "* p.authkey\n",
    "The process’ authentication key. Unless explicitly set, this is a 32-character string gener-\n",
    "ated by os.urandom() .The purpose of this key is to provide security for low-level\n",
    "interprocess communication involving network connections. Such connections only\n",
    "work if both ends have the same authentication key.\n",
    "* p.daemon\n",
    "A Boolean flag that indicates whether or not the process is daemonic. A daemonic\n",
    "process is automatically terminated when the Python process that created it terminates.\n",
    "In addition, a daemonic process is prohibited from creating new processes on its own.\n",
    "The value of p.daemon must be set before a process is started using p.start() .\n",
    "\n",
    "* p.exitcode\n",
    "The integer exit code of the process. If the process is still running, this is None . If the\n",
    "value is negative, a value of –N means the process was terminated by signal N .\n",
    "* p.name\n",
    "The name of the process.\n",
    "* p.pid\n",
    "The integer process ID of the process."
   ]
  },
  {
   "cell_type": "markdown",
   "metadata": {},
   "source": [
    " ####multiprocessing supports two types of communication channel between processes:\n",
    "\n",
    "* Queues\n",
    "\n",
    "    The Queue class is a near clone of Queue.Queue. For example:\n",
    "\n",
    "    Queues are thread and process safe.\n"
   ]
  },
  {
   "cell_type": "code",
   "execution_count": 2,
   "metadata": {
    "collapsed": false
   },
   "outputs": [
    {
     "name": "stdout",
     "output_type": "stream",
     "text": [
      "Worker: 1\n",
      "Worker: 2\n",
      "Worker: 4\n",
      "Worker: 3\n",
      "Worker: 0\n",
      "[42, None, 'hello']\n"
     ]
    }
   ],
   "source": [
    "from multiprocessing import Process, Queue\n",
    "\n",
    "def f(q):\n",
    "    q.put([42, None, 'hello'])\n",
    "\n",
    "if __name__ == '__main__':\n",
    "    q = Queue()\n",
    "    p = Process(target=f, args=(q,))\n",
    "    p.start()\n",
    "    print q.get()    # prints \"[42, None, 'hello']\"\n",
    "    p.join()\n"
   ]
  },
  {
   "cell_type": "markdown",
   "metadata": {},
   "source": [
    "* Pipes\n",
    "\n",
    "    The Pipe() function returns a pair of connection objects connected by a pipe which by default is duplex (two-way). For example:"
   ]
  },
  {
   "cell_type": "code",
   "execution_count": 3,
   "metadata": {
    "collapsed": false
   },
   "outputs": [
    {
     "name": "stdout",
     "output_type": "stream",
     "text": [
      "[42, None, 'hello']\n"
     ]
    }
   ],
   "source": [
    "from multiprocessing import Process, Pipe\n",
    "\n",
    "def f(conn):\n",
    "    conn.send([42, None, 'hello'])\n",
    "    conn.close()\n",
    "\n",
    "if __name__ == '__main__':\n",
    "    parent_conn, child_conn = Pipe()\n",
    "    p = Process(target=f, args=(child_conn,))\n",
    "    p.start()\n",
    "    print parent_conn.recv()   # prints \"[42, None, 'hello']\"\n",
    "    p.join()"
   ]
  },
  {
   "cell_type": "markdown",
   "metadata": {},
   "source": [
    "####synchronization\n"
   ]
  },
  {
   "cell_type": "code",
   "execution_count": null,
   "metadata": {
    "collapsed": true
   },
   "outputs": [],
   "source": [
    "from multiprocessing import Process, Lock\n",
    "\n",
    "def f(l, i):\n",
    "    l.acquire()\n",
    "    print 'hello world', i\n",
    "    l.release()\n",
    "\n",
    "if __name__ == '__main__':\n",
    "    lock = Lock()\n",
    "\n",
    "    for num in range(10):\n",
    "        Process(target=f, args=(lock, num)).start()\n",
    "        "
   ]
  },
  {
   "cell_type": "markdown",
   "metadata": {},
   "source": [
    "###Threading"
   ]
  },
  {
   "cell_type": "markdown",
   "metadata": {},
   "source": [
    "```python\n",
    "class threading.Thread(group=None, target=None, name=None, args=(), kwargs={})\n",
    "```"
   ]
  },
  {
   "cell_type": "code",
   "execution_count": null,
   "metadata": {
    "collapsed": true
   },
   "outputs": [],
   "source": [
    "import threading\n",
    "\n",
    "def worker(num):\n",
    "    \"\"\"thread worker function\"\"\"\n",
    "    print 'Worker: %s' % num\n",
    "    return\n",
    "\n",
    "threads = []\n",
    "for i in range(5):\n",
    "    t = threading.Thread(target=worker, args=(i,))\n",
    "    threads.append(t)\n",
    "    t.start()"
   ]
  },
  {
   "cell_type": "markdown",
   "metadata": {},
   "source": [
    "####Determining the Current Thread\n",
    "\n",
    "* Using arguments to identify or name the thread is cumbersome, and unnecessary. \n",
    "* Each Thread instance has a name with a default value that can be changed as the thread is created. \n",
    "* Naming threads is useful in server processes with multiple service threads handling different operations.\n"
   ]
  },
  {
   "cell_type": "code",
   "execution_count": null,
   "metadata": {
    "collapsed": true
   },
   "outputs": [],
   "source": [
    "\n",
    "import threading\n",
    "import time\n",
    "\n",
    "def worker():\n",
    "    print threading.currentThread().getName(), 'Starting'\n",
    "    time.sleep(2)\n",
    "    print threading.currentThread().getName(), 'Exiting'\n",
    "\n",
    "def my_service():\n",
    "    print threading.currentThread().getName(), 'Starting'\n",
    "    time.sleep(3)\n",
    "    print threading.currentThread().getName(), 'Exiting'\n",
    "\n",
    "t = threading.Thread(name='my_service', target=my_service)\n",
    "w = threading.Thread(name='worker', target=worker)\n",
    "w2 = threading.Thread(target=worker) # use default name\n",
    "\n",
    "w.start()\n",
    "w2.start()\n",
    "t.start()\n"
   ]
  },
  {
   "cell_type": "markdown",
   "metadata": {},
   "source": [
    "* The __logging__ module supports embedding the thread name in every log message using the formatter code %(threadName)s. \n",
    "* Including thread names in log messages makes it easier to trace those messages back to their source.Mb"
   ]
  },
  {
   "cell_type": "code",
   "execution_count": null,
   "metadata": {
    "collapsed": true
   },
   "outputs": [],
   "source": [
    "import logging\n",
    "import threading\n",
    "import time\n",
    "\n",
    "logging.basicConfig(level=logging.DEBUG,\n",
    "                    format='[%(levelname)s] (%(threadName)-10s) %(message)s',\n",
    "                    )\n",
    "\n",
    "def worker():\n",
    "    logging.debug('Starting')\n",
    "    time.sleep(2)\n",
    "    logging.debug('Exiting')\n",
    "\n",
    "def my_service():\n",
    "    logging.debug('Starting')\n",
    "    time.sleep(3)\n",
    "    logging.debug('Exiting')\n",
    "\n",
    "t = threading.Thread(name='my_service', target=my_service)\n",
    "w = threading.Thread(name='worker', target=worker)\n",
    "w2 = threading.Thread(target=worker) # use default name\n",
    "\n",
    "w.start()\n",
    "w2.start()\n",
    "t.start()\n"
   ]
  },
  {
   "cell_type": "markdown",
   "metadata": {},
   "source": [
    "### Subclassing Thread\n",
    "\n",
    "* At start-up, a Thread does some basic initialization and then calls its __run()__ method, which calls the target function passed to the constructor. \n",
    "* To create a subclass of Thread, override __run()__ to do whatever is necessary\n"
   ]
  },
  {
   "cell_type": "code",
   "execution_count": null,
   "metadata": {
    "collapsed": true
   },
   "outputs": [],
   "source": [
    "import threading\n",
    "import logging\n",
    "\n",
    "logging.basicConfig(level=logging.DEBUG,\n",
    "                    format='(%(threadName)-10s) %(message)s',\n",
    "                    )\n",
    "\n",
    "class MyThread(threading.Thread):\n",
    "\n",
    "    def run(self):\n",
    "        logging.debug('running')\n",
    "        return\n",
    "\n",
    "for i in range(5):\n",
    "    t = MyThread()\n",
    "    t.start()\n",
    "    "
   ]
  },
  {
   "cell_type": "code",
   "execution_count": null,
   "metadata": {
    "collapsed": true
   },
   "outputs": [],
   "source": [
    "import threading\n",
    "import logging\n",
    "\n",
    "logging.basicConfig(level=logging.DEBUG,\n",
    "                    format='(%(threadName)-10s) %(message)s',\n",
    "                    )\n",
    "\n",
    "class MyThreadWithArgs(threading.Thread):\n",
    "\n",
    "    def __init__(self, group=None, target=None, name=None,\n",
    "                 args=(), kwargs=None, verbose=None):\n",
    "        threading.Thread.__init__(self, group=group, target=target, name=name,\n",
    "                                  verbose=verbose)\n",
    "        self.args = args\n",
    "        self.kwargs = kwargs\n",
    "        return\n",
    "\n",
    "    def run(self):\n",
    "        logging.debug('running with %s and %s', self.args, self.kwargs)\n",
    "        return\n",
    "\n",
    "for i in range(5):\n",
    "    t = MyThreadWithArgs(args=(i,), kwargs={'a':'A', 'b':'B'})\n",
    "    t.start()"
   ]
  },
  {
   "cell_type": "markdown",
   "metadata": {},
   "source": [
    "###Subprocess "
   ]
  },
  {
   "cell_type": "code",
   "execution_count": 4,
   "metadata": {
    "collapsed": false
   },
   "outputs": [
    {
     "name": "stdout",
     "output_type": "stream",
     "text": [
      "['app.py\\n', 'day3_session1.ipynb\\n', 'day3_session2_OCR.ipynb\\n', 'day3_session2_REST_API.ipynb\\n', 'day3_session3.ipynb\\n', 'day3_session4.ipynb\\n', 'ocr1.jpg\\n', 'ocr2.jpg\\n', 'REST_app_full.py\\n', 'REST_app_get.py\\n', 'REST_app_post.py\\n', 'socket_client.py\\n', 'socket_server.py\\n', 'swig_example\\n', 'swig_example_2\\n', 'tcp_connection_sequence.png\\n', 'zmq_examples\\n']\n"
     ]
    }
   ],
   "source": [
    "import subprocess\n",
    "ls = subprocess.Popen(\"ls\",\n",
    "                       shell=False,\n",
    "                       stdout=subprocess.PIPE,\n",
    "                       stderr=subprocess.PIPE)\n",
    "x = ls.stdout.readlines()\n",
    "print x"
   ]
  },
  {
   "cell_type": "code",
   "execution_count": 5,
   "metadata": {
    "collapsed": false
   },
   "outputs": [
    {
     "name": "stdout",
     "output_type": "stream",
     "text": [
      "['Linux abdul-work 3.16.0-49-generic #65~14.04.1-Ubuntu SMP Wed Sep 9 10:03:23 UTC 2015 x86_64 x86_64 x86_64 GNU/Linux\\n']\n"
     ]
    }
   ],
   "source": [
    "import subprocess\n",
    "import sys\n",
    "\n",
    "HOST=\"localhost\"\n",
    "# Ports are handled in ~/.ssh/config since we use OpenSSH\n",
    "COMMAND=\"uname -a\"\n",
    "\n",
    "ssh = subprocess.Popen([\"ssh\", \"%s\" % HOST, COMMAND],\n",
    "                       shell=False,\n",
    "                       stdout=subprocess.PIPE,\n",
    "                       stderr=subprocess.PIPE)\n",
    "result = ssh.stdout.readlines()\n",
    "if result == []:\n",
    "    error = ssh.stderr.readlines()\n",
    "    print >>sys.stderr, \"ERROR: %s\" % error\n",
    "else:\n",
    "    print result\n",
    "    "
   ]
  },
  {
   "cell_type": "markdown",
   "metadata": {
    "collapsed": true
   },
   "source": [
    " ```python\n",
    " subprocess.call(args, *, stdin=None, stdout=None, stderr=None, shell=False)\n",
    " ```\n",
    "\n",
    "    - Run the command described by args. Wait for command to complete, then return the returncode attribute.\n",
    "    - Do not use stdout=PIPE or stderr=PIPE with this function as that can deadlock based on the child process output volume. \n",
    "    - Use Popen with the communicate() method when you need pipes.\n",
    "    \n",
    "    \n",
    "    "
   ]
  },
  {
   "cell_type": "markdown",
   "metadata": {},
   "source": [
    " ```python\n",
    " subprocess.check_call(args, *, stdin=None, stdout=None, stderr=None, shell=False)\n",
    " ```\n",
    "\n",
    " - Run command with arguments. Wait for command to complete. If the return code was zero then return, otherwise raise CalledProcessError. The CalledProcessError object will have the return code in the returncode attribute."
   ]
  },
  {
   "cell_type": "markdown",
   "metadata": {},
   "source": [
    " ```python\n",
    "subprocess.check_output(args, *, stdin=None, stderr=None, shell=False, universal_newlines=False)\n",
    "```\n",
    "\n",
    "- Run command with arguments and return its output as a byte string.\n",
    "- If the return code was non-zero it raises a CalledProcessError. The CalledProcessError object will have the return code in the returncode attribute and any output in the output attribute."
   ]
  },
  {
   "cell_type": "code",
   "execution_count": null,
   "metadata": {
    "collapsed": true
   },
   "outputs": [],
   "source": []
  }
 ],
 "metadata": {
  "kernelspec": {
   "display_name": "Python 2",
   "language": "python",
   "name": "python2"
  },
  "language_info": {
   "codemirror_mode": {
    "name": "ipython",
    "version": 2
   },
   "file_extension": ".py",
   "mimetype": "text/x-python",
   "name": "python",
   "nbconvert_exporter": "python",
   "pygments_lexer": "ipython2",
   "version": "2.7.6"
  }
 },
 "nbformat": 4,
 "nbformat_minor": 0
}
