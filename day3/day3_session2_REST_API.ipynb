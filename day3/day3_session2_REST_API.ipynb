{
 "cells": [
  {
   "cell_type": "markdown",
   "metadata": {},
   "source": [
    "### Setting up a python REST API\n",
    "\n",
    "* REST (REpresentational State Transfer) \n",
    "* the standard architectural design for web services and web APIs.\n",
    "\n",
    "<table class=\"data\">\n",
    "<tr><th>HTTP Method</th><th>Action</th><th>Examples</th></tr>\n",
    "<tr><td>GET</td><td>Obtain information about a resource</td><td>http://example.com/api/orders<br />(retrieve order list)</td></tr>\n",
    "<tr><td>GET</td><td>Obtain information about a resource</td><td>http://example.com/api/orders/123<br />(retrieve order #123)</td></tr>\n",
    "<tr><td>POST</td><td>Create a new resource</td><td>http://example.com/api/orders<br />(create a new order, from data provided with the request)</td></tr>\n",
    "<tr><td>PUT</td><td>Update a resource</td><td>http://example.com/api/orders/123<br />(update order #123, from data provided with the request)</td></tr>\n",
    "<tr><td>DELETE</td><td>Delete a resource</td><td>http://example.com/api/orders/123<br />(delete order #123)</td></tr>\n",
    "</table>\n"
   ]
  },
  {
   "cell_type": "markdown",
   "metadata": {
    "collapsed": true
   },
   "source": [
    "#### Installing Flask\n",
    "```shell\n",
    "$ mkdir todo-api\n",
    "$ cd todo-api\n",
    "$ virtualenv flask_env\n",
    "\n",
    "$ flask_env/bin/pip install flask\n",
    "```"
   ]
  },
  {
   "cell_type": "markdown",
   "metadata": {},
   "source": [
    "#### app.py\n",
    "```python\n",
    "#!flask-env/bin/python\n",
    "from flask import Flask\n",
    "\n",
    "app = Flask(__name__)\n",
    "\n",
    "@app.route('/')\n",
    "def index():\n",
    "    return \"Hello, World!\"\n",
    "\n",
    "if __name__ == '__main__':\n",
    "    app.run(debug=True)\n",
    "```"
   ]
  },
  {
   "cell_type": "markdown",
   "metadata": {},
   "source": [
    "####Starting with GET \n",
    "\n",
    "```python\n",
    "#!flask-env/bin/python\n",
    "#REST_app_get.py\n",
    "from flask import Flask, jsonify\n",
    "\n",
    "app = Flask(__name__)\n",
    "\n",
    "tasks = [\n",
    "    {\n",
    "        'id': 1,\n",
    "        'title': u'Learn Python',\n",
    "        'description': u'import this', \n",
    "        'done': False\n",
    "    },\n",
    "    {\n",
    "        'id': 2,\n",
    "        'title': u'Learn REST',\n",
    "        'description': u'Need to lears REST to setup APIs for automation framework', \n",
    "        'done': False\n",
    "    }\n",
    "]\n",
    "\n",
    "@app.route('/todo/api/v1.0/tasks', methods=['GET'])\n",
    "def get_tasks():\n",
    "    return jsonify({'tasks': tasks})\n",
    "\n",
    "if __name__ == '__main__':\n",
    "    app.run(debug=True)\n",
    "```"
   ]
  },
  {
   "cell_type": "code",
   "execution_count": 5,
   "metadata": {
    "collapsed": false
   },
   "outputs": [
    {
     "name": "stdout",
     "output_type": "stream",
     "text": [
      "HTTP/1.0 200 OK\r",
      "\r\n",
      "Content-Type: application/json\r",
      "\r\n",
      "Content-Length: 293\r",
      "\r\n",
      "Server: Werkzeug/0.10.4 Python/2.7.6\r",
      "\r\n",
      "Date: Sun, 20 Sep 2015 08:43:02 GMT\r",
      "\r\n",
      "\r",
      "\r\n",
      "{\r\n",
      "  \"tasks\": [\r\n",
      "    {\r\n",
      "      \"description\": \"import this\",\r\n",
      "      \"done\": false,\r\n",
      "      \"id\": 1,\r\n",
      "      \"title\": \"Learn Python\"\r\n",
      "    },\r\n",
      "    {\r\n",
      "      \"description\": \"Need to learn REST to setup APIs for automation framework\",\r\n",
      "      \"done\": false,\r\n",
      "      \"id\": 2,\r\n",
      "      \"title\": \"Learn REST\"\r\n",
      "    }\r\n",
      "  ]\r\n",
      "}"
     ]
    }
   ],
   "source": [
    "!curl -i http://localhost:5000/todo/api/v1.0/tasks"
   ]
  },
  {
   "cell_type": "markdown",
   "metadata": {},
   "source": [
    "#### Adding a POST method:\n",
    "```python\n",
    "@app.route('/todo/api/v1.0/tasks', methods=['POST'])\n",
    "def create_task():\n",
    "    if not request.json or not 'title' in request.json:\n",
    "        abort(400)\n",
    "    task = {\n",
    "        'id': tasks[-1]['id'] + 1,\n",
    "        'title': request.json['title'],\n",
    "        'description': request.json.get('description', \"\"),\n",
    "        'done': False\n",
    "    }\n",
    "    tasks.append(task)\n",
    "    return jsonify({'task': task}), 201\n",
    "```"
   ]
  },
  {
   "cell_type": "code",
   "execution_count": 7,
   "metadata": {
    "collapsed": false
   },
   "outputs": [
    {
     "name": "stdout",
     "output_type": "stream",
     "text": [
      "HTTP/1.0 201 CREATED\r",
      "\r\n",
      "Content-Type: application/json\r",
      "\r\n",
      "Content-Length: 101\r",
      "\r\n",
      "Server: Werkzeug/0.10.4 Python/2.7.6\r",
      "\r\n",
      "Date: Sun, 20 Sep 2015 08:44:14 GMT\r",
      "\r\n",
      "\r",
      "\r\n",
      "{\r\n",
      "  \"task\": {\r\n",
      "    \"description\": \"\",\r\n",
      "    \"done\": false,\r\n",
      "    \"id\": 3,\r\n",
      "    \"title\": \"Read a book\"\r\n",
      "  }\r\n",
      "}"
     ]
    }
   ],
   "source": [
    "!curl -i -H \"Content-Type: application/json\" -X POST -d '{\"title\":\"Read a book\"}' http://localhost:5000/todo/api/v1.0/tasks"
   ]
  },
  {
   "cell_type": "markdown",
   "metadata": {},
   "source": [
    "#### PUT and DELETE\n",
    "```python\n",
    "@app.route('/todo/api/v1.0/tasks/<int:task_id>', methods=['PUT'])\n",
    "def update_task(task_id):\n",
    "    task = [task for task in tasks if task['id'] == task_id]\n",
    "    if len(task) == 0:\n",
    "        abort(404)\n",
    "    if not request.json:\n",
    "        abort(400)\n",
    "    if 'title' in request.json and type(request.json['title']) != unicode:\n",
    "        abort(400)\n",
    "    if 'description' in request.json and type(request.json['description']) is not unicode:\n",
    "        abort(400)\n",
    "    if 'done' in request.json and type(request.json['done']) is not bool:\n",
    "        abort(400)\n",
    "    task[0]['title'] = request.json.get('title', task[0]['title'])\n",
    "    task[0]['description'] = request.json.get('description', task[0]['description'])\n",
    "    task[0]['done'] = request.json.get('done', task[0]['done'])\n",
    "    return jsonify({'task': task[0]})\n",
    "\n",
    "@app.route('/todo/api/v1.0/tasks/<int:task_id>', methods=['DELETE'])\n",
    "def delete_task(task_id):\n",
    "    task = [task for task in tasks if task['id'] == task_id]\n",
    "    if len(task) == 0:\n",
    "        abort(404)\n",
    "    tasks.remove(task[0])\n",
    "    return jsonify({'result': True})\n",
    "```"
   ]
  },
  {
   "cell_type": "code",
   "execution_count": 8,
   "metadata": {
    "collapsed": false
   },
   "outputs": [
    {
     "name": "stdout",
     "output_type": "stream",
     "text": [
      "HTTP/1.0 200 OK\r",
      "\r\n",
      "Content-Type: application/json\r",
      "\r\n",
      "Content-Length: 156\r",
      "\r\n",
      "Server: Werkzeug/0.10.4 Python/2.7.6\r",
      "\r\n",
      "Date: Sun, 20 Sep 2015 08:44:40 GMT\r",
      "\r\n",
      "\r",
      "\r\n",
      "{\r\n",
      "  \"task\": {\r\n",
      "    \"description\": \"Need to learn REST to setup APIs for automation framework\",\r\n",
      "    \"done\": true,\r\n",
      "    \"id\": 2,\r\n",
      "    \"title\": \"Learn REST\"\r\n",
      "  }\r\n",
      "}"
     ]
    }
   ],
   "source": [
    "#Updates a record\n",
    "! curl -i -H \"Content-Type: application/json\" -X PUT -d '{\"done\":true}' http://localhost:5000/todo/api/v1.0/tasks/2\n"
   ]
  },
  {
   "cell_type": "code",
   "execution_count": null,
   "metadata": {
    "collapsed": true
   },
   "outputs": [],
   "source": []
  }
 ],
 "metadata": {
  "kernelspec": {
   "display_name": "Python 2",
   "language": "python",
   "name": "python2"
  },
  "language_info": {
   "codemirror_mode": {
    "name": "ipython",
    "version": 2
   },
   "file_extension": ".py",
   "mimetype": "text/x-python",
   "name": "python",
   "nbconvert_exporter": "python",
   "pygments_lexer": "ipython2",
   "version": "2.7.6"
  }
 },
 "nbformat": 4,
 "nbformat_minor": 0
}
