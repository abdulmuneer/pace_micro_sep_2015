{
 "cells": [
  {
   "cell_type": "markdown",
   "metadata": {},
   "source": [
    "####Socket Programming\n",
    "<img src='tcp_connection_sequence.png'>"
   ]
  },
  {
   "cell_type": "markdown",
   "metadata": {
    "collapsed": true
   },
   "source": [
    "```python\n",
    "import socket\n",
    "import sys\n",
    "\n",
    "# Create a TCP/IP socket\n",
    "sock = socket.socket(socket.AF_INET, socket.SOCK_STREAM)\n",
    "```"
   ]
  },
  {
   "cell_type": "markdown",
   "metadata": {
    "collapsed": false
   },
   "source": [
    "```python\n",
    "# Bind the socket to the port\n",
    "server_address = ('localhost', 9876)\n",
    "print >>sys.stderr, 'starting up on %s port %s' % server_address\n",
    "socket.bind(server_address)\n",
    "```"
   ]
  },
  {
   "cell_type": "markdown",
   "metadata": {},
   "source": [
    "Calling listen() puts the socket into server mode, and accept() waits for an incoming connection."
   ]
  },
  {
   "cell_type": "markdown",
   "metadata": {
    "collapsed": false
   },
   "source": [
    "```python\n",
    "# Listen for incoming connections\n",
    "sock.listen(1)\n",
    "\n",
    "while True:\n",
    "    # Wait for a connection\n",
    "    print >>sys.stderr, 'waiting for a connection'\n",
    "    connection, client_address = sock.accept()\n",
    "```"
   ]
  },
  {
   "cell_type": "markdown",
   "metadata": {},
   "source": [
    "* accept() returns an open connection between the server and client, along with the address of the client. \n",
    "* The connection is actually a different socket on another port (assigned by the kernel). \n",
    "* Data is read from the connection with recv() and transmitted with sendall()."
   ]
  },
  {
   "cell_type": "markdown",
   "metadata": {},
   "source": [
    "```python\n",
    "    try:\n",
    "        print >>sys.stderr, 'connection from', client_address\n",
    "\n",
    "        # Receive the data in small chunks and retransmit it\n",
    "        while True:\n",
    "            data = connection.recv(16)\n",
    "            print >>sys.stderr, 'received \"%s\"' % data\n",
    "            if data:\n",
    "                print >>sys.stderr, 'sending data back to the client' \n",
    "                connection.sendall(data)\n",
    "            else:\n",
    "                print >>sys.stderr, 'no more data from', client_address\n",
    "                break\n",
    "            \n",
    "    finally:\n",
    "        # Clean up the connection\n",
    "        connection.close()\n",
    "```"
   ]
  },
  {
   "cell_type": "markdown",
   "metadata": {},
   "source": [
    "###Connecting a client\n",
    "```python\n",
    "import socket\n",
    "import sys\n",
    "\n",
    "# Create a TCP/IP socket\n",
    "sock = socket.socket(socket.AF_INET, socket.SOCK_STREAM)\n",
    "\n",
    "# Connect the socket to the port where the server is listening\n",
    "server_address = ('localhost', 9876)\n",
    "print >>sys.stderr, 'connecting to %s port %s' % server_address\n",
    "sock.connect(server_address)\n",
    "```"
   ]
  },
  {
   "cell_type": "markdown",
   "metadata": {},
   "source": [
    "###communicating with the server\n",
    "```python\n",
    "try:\n",
    "    \n",
    "    # Send data\n",
    "    message = 'This is the message.  It will be repeated.'\n",
    "    print >>sys.stderr, 'sending \"%s\"' % message\n",
    "    sock.sendall(message)\n",
    "\n",
    "    # Look for the response\n",
    "    amount_received = 0\n",
    "    amount_expected = len(message)\n",
    "    \n",
    "    while amount_received < amount_expected:\n",
    "        data = sock.recv(16)\n",
    "        amount_received += len(data)\n",
    "        print >>sys.stderr, 'received \"%s\"' % data\n",
    "\n",
    "finally:\n",
    "    print >>sys.stderr, 'closing socket'\n",
    "    sock.close()\n",
    "```"
   ]
  },
  {
   "cell_type": "markdown",
   "metadata": {},
   "source": [
    "### Extending Python:\n"
   ]
  },
  {
   "cell_type": "markdown",
   "metadata": {},
   "source": [
    "#### c program\n",
    "```c\n",
    "/* File: example.c */\n",
    "\n",
    "#include \"example.h\"\n",
    "\n",
    "int fact(int n) {\n",
    "    if (n < 0){ /* This should probably return an error, but this is simpler */\n",
    "        return 0;\n",
    "    }\n",
    "    if (n == 0) {\n",
    "        return 1;\n",
    "    }\n",
    "    else {\n",
    "        /* testing for overflow would be a good idea here */\n",
    "        return n * fact(n-1);\n",
    "    }\n",
    "}\n",
    "```"
   ]
  },
  {
   "cell_type": "markdown",
   "metadata": {},
   "source": [
    "#### header file\n",
    "\n",
    "```c\n",
    "/* File: example.h */\n",
    "\n",
    "int fact(int n);\n",
    "```"
   ]
  },
  {
   "cell_type": "markdown",
   "metadata": {},
   "source": [
    "#### SWIG wrapper\n",
    "\n",
    "```c\n",
    "/* File: example.i */\n",
    "%module example\n",
    "\n",
    "%{\n",
    "#define SWIG_FILE_WITH_INIT\n",
    "#include \"example.h\"\n",
    "%}\n",
    "\n",
    "int fact(int n);\n",
    "```"
   ]
  },
  {
   "cell_type": "markdown",
   "metadata": {},
   "source": [
    " The #define SWIG_FILE_WITH_INIT line inserts a macro that specifies that the resulting C file should be built as a python extension, inserting the module init code."
   ]
  },
  {
   "cell_type": "markdown",
   "metadata": {},
   "source": [
    "To build a Python module, run SWIG using the -python option:\n",
    "```shell\n",
    "swig -python example.i\n",
    "```\n",
    "\n",
    "This creates example_wrap.c (or example_wrap.cxx if -c++ option was given)  and a Python source file example.py"
   ]
  },
  {
   "cell_type": "markdown",
   "metadata": {},
   "source": [
    "The setup call then sets up distutils to build your package\n",
    "\n",
    "```shell\n",
    "python setup.py build_ext --inplace\n",
    "```\n",
    "\n",
    "\n",
    "- python -- the version of python you want to build for\n",
    "- setup.py -- the name of your setup script (it can be called anything, but setup.py is the tradition)\n",
    "- build_ext -- telling distutils to build extensions\n",
    "- --inplace -- this tells distutils to put the extension lib in the current dir. "
   ]
  },
  {
   "cell_type": "markdown",
   "metadata": {},
   "source": [
    "### Now use inside python!\n",
    "```python\n",
    "from example import fact\n",
    "fact(10)\n",
    "```"
   ]
  },
  {
   "cell_type": "markdown",
   "metadata": {
    "collapsed": true
   },
   "source": [
    "### Other options:\n",
    "http://intermediate-and-advanced-software-carpentry.readthedocs.org/en/latest/c++-wrapping.html\n",
    "\n",
    "- Manual wrapping (PyObject) \n",
    "- Wrapping C code with pyrex\n",
    "- ctypes\n",
    "- SIP (Python bindings for Qt)\n",
    "- Boost.Python\n",
    "\n"
   ]
  },
  {
   "cell_type": "code",
   "execution_count": null,
   "metadata": {
    "collapsed": true
   },
   "outputs": [],
   "source": []
  }
 ],
 "metadata": {
  "kernelspec": {
   "display_name": "Python 2",
   "language": "python",
   "name": "python2"
  },
  "language_info": {
   "codemirror_mode": {
    "name": "ipython",
    "version": 2
   },
   "file_extension": ".py",
   "mimetype": "text/x-python",
   "name": "python",
   "nbconvert_exporter": "python",
   "pygments_lexer": "ipython2",
   "version": "2.7.6"
  }
 },
 "nbformat": 4,
 "nbformat_minor": 0
}
