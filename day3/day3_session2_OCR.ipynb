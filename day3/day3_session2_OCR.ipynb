{
 "cells": [
  {
   "cell_type": "markdown",
   "metadata": {},
   "source": [
    "###Setting up a minimal OCR system.\n",
    "\n",
    "* Google Tesseract\n",
    "* pytesseract\n"
   ]
  },
  {
   "cell_type": "markdown",
   "metadata": {},
   "source": [
    "#### Dependencies\n",
    "```shell\n",
    "sudo apt-get update\n",
    "sudo apt-get install autoconf automake libtool\n",
    "sudo apt-get install libpng12-dev\n",
    "sudo apt-get install libjpeg62-dev\n",
    "sudo apt-get install g++\n",
    "sudo apt-get install libtiff4-dev\n",
    "sudo apt-get install libopencv-dev libtesseract-dev\n",
    "sudo apt-get install git\n",
    "sudo apt-get install cmake\n",
    "sudo apt-get install build-essential\n",
    "sudo apt-get install libleptonica-dev\n",
    "sudo apt-get install liblog4cplus-dev\n",
    "sudo apt-get install libcurl3-dev\n",
    "sudo apt-get install python2.7-dev\n",
    "sudo apt-get install tk8.5 tcl8.5 tk8.5-dev tcl8.5-dev\n",
    "sudo apt-get build-dep python-imaging --fix-missing\n",
    "```"
   ]
  },
  {
   "cell_type": "markdown",
   "metadata": {},
   "source": [
    "#### OR\n",
    "```shell\n",
    "sudo apt-get install libleptonica-dev\n",
    "sudo apt-get install tesseract-ocr\n",
    "sudo apt-get install tesseract-ocr-<language>\n",
    "```"
   ]
  },
  {
   "cell_type": "markdown",
   "metadata": {},
   "source": [
    "####Python wrapper for tesseract\n",
    "```shell\n",
    "sudo pip install pytesseract\n",
    "```"
   ]
  },
  {
   "cell_type": "markdown",
   "metadata": {},
   "source": [
    "#### OCR in python"
   ]
  },
  {
   "cell_type": "code",
   "execution_count": 1,
   "metadata": {
    "collapsed": true
   },
   "outputs": [],
   "source": [
    "import pytesseract\n",
    "import requests\n",
    "from PIL import Image\n",
    "from PIL import ImageFilter\n",
    "from StringIO import StringIO\n",
    "\n",
    "\n",
    "def process_image(url):\n",
    "    image = _get_image(url)\n",
    "    image.filter(ImageFilter.SHARPEN)\n",
    "    return pytesseract.image_to_string(image)\n",
    "\n",
    "\n",
    "def _get_image(url):\n",
    "    return Image.open(StringIO(requests.get(url).content))\n"
   ]
  },
  {
   "cell_type": "markdown",
   "metadata": {},
   "source": [
    "ocr1.jpg\n",
    "<img src=ocr1.jpg> "
   ]
  },
  {
   "cell_type": "markdown",
   "metadata": {},
   "source": [
    "ocr2.jpg\n",
    "<img src=ocr2.jpg>"
   ]
  },
  {
   "cell_type": "code",
   "execution_count": null,
   "metadata": {
    "collapsed": false
   },
   "outputs": [],
   "source": [
    "process_image(\"http://0.0.0.0:8000/ocr1.jpg\")"
   ]
  },
  {
   "cell_type": "code",
   "execution_count": null,
   "metadata": {
    "collapsed": false
   },
   "outputs": [],
   "source": [
    "process_image(\"http://0.0.0.0:8000/ocr2.jpg\")"
   ]
  },
  {
   "cell_type": "code",
   "execution_count": null,
   "metadata": {
    "collapsed": true
   },
   "outputs": [],
   "source": []
  }
 ],
 "metadata": {
  "kernelspec": {
   "display_name": "Python 2",
   "language": "python",
   "name": "python2"
  },
  "language_info": {
   "codemirror_mode": {
    "name": "ipython",
    "version": 2
   },
   "file_extension": ".py",
   "mimetype": "text/x-python",
   "name": "python",
   "nbconvert_exporter": "python",
   "pygments_lexer": "ipython2",
   "version": "2.7.6"
  }
 },
 "nbformat": 4,
 "nbformat_minor": 0
}
