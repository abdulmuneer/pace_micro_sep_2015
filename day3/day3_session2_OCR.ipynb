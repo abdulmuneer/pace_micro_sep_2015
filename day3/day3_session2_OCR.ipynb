{
 "cells": [
  {
   "cell_type": "markdown",
   "metadata": {},
   "source": [
    "###Setting up a minimal OCR system.\n",
    "\n",
    "* Google Tesseract\n",
    "* pytesseract\n"
   ]
  },
  {
   "cell_type": "markdown",
   "metadata": {},
   "source": [
    "#### Dependencies\n",
    "```shell\n",
    "sudo apt-get update\n",
    "sudo apt-get install autoconf automake libtool\n",
    "sudo apt-get install libpng12-dev\n",
    "sudo apt-get install libjpeg62-dev\n",
    "sudo apt-get install g++\n",
    "sudo apt-get install libtiff4-dev\n",
    "sudo apt-get install libopencv-dev libtesseract-dev\n",
    "sudo apt-get install git\n",
    "sudo apt-get install cmake\n",
    "sudo apt-get install build-essential\n",
    "sudo apt-get install libleptonica-dev\n",
    "sudo apt-get install liblog4cplus-dev\n",
    "sudo apt-get install libcurl3-dev\n",
    "sudo apt-get install python2.7-dev\n",
    "sudo apt-get install tk8.5 tcl8.5 tk8.5-dev tcl8.5-dev\n",
    "sudo apt-get build-dep python-imaging --fix-missing\n",
    "```"
   ]
  },
  {
   "cell_type": "markdown",
   "metadata": {},
   "source": [
    "#### OR\n",
    "```shell\n",
    "sudo apt-get install libleptonica-dev\n",
    "sudo apt-get install tesseract-ocr\n",
    "sudo apt-get install tesseract-ocr-<language>\n",
    "```"
   ]
  },
  {
   "cell_type": "markdown",
   "metadata": {},
   "source": [
    "####Python wrapper for tesseract\n",
    "```shell\n",
    "sudo pip install pytesseract\n",
    "```"
   ]
  },
  {
   "cell_type": "markdown",
   "metadata": {},
   "source": [
    "#### OCR in python"
   ]
  },
  {
   "cell_type": "code",
   "execution_count": 2,
   "metadata": {
    "collapsed": true
   },
   "outputs": [],
   "source": [
    "import pytesseract\n",
    "import requests\n",
    "from PIL import Image\n",
    "from PIL import ImageFilter\n",
    "from StringIO import StringIO\n",
    "\n",
    "\n",
    "def process_image(url):\n",
    "    image = _get_image(url)\n",
    "    image.filter(ImageFilter.SHARPEN)\n",
    "    return pytesseract.image_to_string(image)\n",
    "\n",
    "\n",
    "def _get_image(url):\n",
    "    return Image.open(StringIO(requests.get(url).content))\n"
   ]
  },
  {
   "cell_type": "code",
   "execution_count": 5,
   "metadata": {
    "collapsed": false
   },
   "outputs": [
    {
     "name": "stdout",
     "output_type": "stream",
     "text": [
      "Help on function image_to_string in module pytesseract.pytesseract:\n",
      "\n",
      "image_to_string(image, lang=None, boxes=False, config=None)\n",
      "    Runs tesseract on the specified image. First, the image is written to disk,\n",
      "    and then the tesseract command is run on the image. Resseract's result is\n",
      "    read, and the temporary files are erased.\n",
      "    \n",
      "    also supports boxes and config.\n",
      "    \n",
      "    if boxes=True\n",
      "        \"batch.nochop makebox\" gets added to the tesseract call\n",
      "    if config is set, the config gets appended to the command.\n",
      "        ex: config=\"-psm 6\"\n",
      "\n"
     ]
    }
   ],
   "source": [
    "help(pytesseract.image_to_string)"
   ]
  },
  {
   "cell_type": "markdown",
   "metadata": {},
   "source": [
    "ocr1.jpg\n",
    "<img src=ocr1.jpg> "
   ]
  },
  {
   "cell_type": "markdown",
   "metadata": {},
   "source": [
    "ocr2.jpg\n",
    "<img src=ocr2.jpg>"
   ]
  },
  {
   "cell_type": "code",
   "execution_count": 3,
   "metadata": {
    "collapsed": false
   },
   "outputs": [
    {
     "data": {
      "text/plain": [
       "'ABCDE\\nFGH I J\\nKLMNO\\nPQRST'"
      ]
     },
     "execution_count": 3,
     "metadata": {},
     "output_type": "execute_result"
    }
   ],
   "source": [
    "process_image(\"http://0.0.0.0:8000/ocr1.jpg\")"
   ]
  },
  {
   "cell_type": "code",
   "execution_count": 4,
   "metadata": {
    "collapsed": false
   },
   "outputs": [
    {
     "data": {
      "text/plain": [
       "'(D Server not found'"
      ]
     },
     "execution_count": 4,
     "metadata": {},
     "output_type": "execute_result"
    }
   ],
   "source": [
    "process_image(\"http://0.0.0.0:8000/ocr2.jpg\")"
   ]
  },
  {
   "cell_type": "code",
   "execution_count": null,
   "metadata": {
    "collapsed": true
   },
   "outputs": [],
   "source": []
  }
 ],
 "metadata": {
  "kernelspec": {
   "display_name": "Python 2",
   "language": "python",
   "name": "python2"
  },
  "language_info": {
   "codemirror_mode": {
    "name": "ipython",
    "version": 2
   },
   "file_extension": ".py",
   "mimetype": "text/x-python",
   "name": "python",
   "nbconvert_exporter": "python",
   "pygments_lexer": "ipython2",
   "version": "2.7.6"
  }
 },
 "nbformat": 4,
 "nbformat_minor": 0
}
