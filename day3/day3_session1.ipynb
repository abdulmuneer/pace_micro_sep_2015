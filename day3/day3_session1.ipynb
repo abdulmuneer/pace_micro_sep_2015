{
 "cells": [
  {
   "cell_type": "markdown",
   "metadata": {},
   "source": [
    "### Asynchronous Programming "
   ]
  },
  {
   "cell_type": "markdown",
   "metadata": {},
   "source": [
    "####Multiprocessing\n",
    "* Pros\n",
    "\n",
    "    - Separate memory space\n",
    "    - Code is usually straightforward\n",
    "    - Takes advantage of multiple CPUs & cores\n",
    "    - Avoids GIL limitations for cPython\n",
    "    - Eliminates most needs for synchronization primitives unless if you use shared memory (instead, it's more of a communication model for IPC)\n",
    "    - Child processes are interruptible/killable\n",
    "    - Python multiprocessing module includes useful abstractions with an interface much like threading.Thread\n",
    "    - A must with cPython for CPU-bound processing\n",
    "\n",
    "* Cons\n",
    "\n",
    "    - IPC a little more complicated with more overhead (communication model vs. shared memory/objects)\n",
    "    Larger memory footprint\n",
    "\n",
    "####Threading\n",
    "* Pros\n",
    "\n",
    "    - Lightweight - low memory footprint\n",
    "    - Shared memory - makes access to state from another context easier\n",
    "    - Allows you to easily make responsive UIs\n",
    "    - cPython C extension modules that properly release the GIL will run in parallel\n",
    "    - Great option for I/O-bound applications\n",
    "\n",
    "* Cons\n",
    "\n",
    "    - cPython - subject to the GIL\n",
    "    - Not interruptible/killable\n",
    "    - If not following a command queue/message pump model (using the Queue module), then manual use of synchronization primitives become a necessity (decisions are needed for the granularity of locking)\n",
    "    - Code is usually harder to understand and to get right - the potential for race conditions increases dramatically\n",
    "\n",
    "\n",
    "from: http://stackoverflow.com/a/3046201/842420"
   ]
  },
  {
   "cell_type": "code",
   "execution_count": 2,
   "metadata": {
    "collapsed": false
   },
   "outputs": [
    {
     "name": "stdout",
     "output_type": "stream",
     "text": [
      "Worker: 2\n",
      "Worker: 3\n",
      "Worker: 4\n",
      "Worker: 0\n",
      "Worker: 1\n",
      "Worker: 0\n"
     ]
    }
   ],
   "source": [
    "import multiprocessing\n",
    "\n",
    "def worker(num):\n",
    "    \"\"\"thread worker function\"\"\"\n",
    "    print 'Worker:', num\n",
    "    return\n",
    "\n",
    "if __name__ == '__main__':\n",
    "    jobs = []\n",
    "    for i in range(5):\n",
    "        p = multiprocessing.Process(target=worker, args=(i,))\n",
    "        jobs.append(p)\n",
    "        p.start()"
   ]
  },
  {
   "cell_type": "markdown",
   "metadata": {},
   "source": [
    "* multiprocessing\n",
    "\n",
    "Process([group [, target [, name [, args [, kwargs]]]]])\n",
    "\n",
    "- target is a callable object that will execute when the process starts\n",
    "- args is a tuple of positional arguments passed to target\n",
    "- kwargs is a dictionary of keyword arguments passed to target .\n",
    "- name is a string that gives a descriptive name to the process. \n",
    "- group is unused and is always set to None . Its presence here is simply to make the construction of a Process mimic the creation of a thread in the threading module.\n",
    "\n"
   ]
  },
  {
   "cell_type": "markdown",
   "metadata": {
    "collapsed": true
   },
   "source": [
    "One difference between the threading and multiprocessing examples is the extra protection for __main__ used in the multiprocessing examples. \n",
    "\n",
    "Due to the way the new processes are started, the child process needs to be able to import the script containing the target function. Wrapping the main part of the application in a check for __main__ ensures that it is not run recursively in each child as the module is imported. Another approach is to import the target function from a separate script."
   ]
  },
  {
   "cell_type": "markdown",
   "metadata": {},
   "source": [
    "An instance p of Process has the following methods:\n",
    "* p.is_alive()\n",
    "Returns True if p is still running.\n",
    "* p.join([timeout])\n",
    "Waits for process p to terminate. timeout specifies an optional timeout period. A\n",
    "process can be joined as many times as you wish, but it is an error for a process to try\n",
    "and join itself.\n",
    "* p.run()\n",
    "The method that runs when the process starts. By default, this invokes target that was\n",
    "passed to the Process constructor. As an alternative, a process can be defined by inher-\n",
    "iting from Process and reimplementing run() .\n",
    "* p.start()\n",
    "Starts the process.This launches the subprocess that represents the process and invokes p.run() in that subprocess.\n",
    "* p.terminate()\n",
    "Forcefully terminates the process. If this is invoked, the process p is terminated immedi-\n",
    "ately without performing any kind of cleanup actions. If the process p created sub-\n",
    "processes of its own, those processes will turn into zombies. Some care is required when\n",
    "using this method. If p holds a lock or is involved with interprocess communication,\n",
    "terminating it might cause a deadlock or corrupted I/O.\n",
    "A Process instance p also has the following data attributes:\n",
    "* p.authkey\n",
    "The process’ authentication key. Unless explicitly set, this is a 32-character string gener-\n",
    "ated by os.urandom() .The purpose of this key is to provide security for low-level\n",
    "interprocess communication involving network connections. Such connections only\n",
    "work if both ends have the same authentication key.\n",
    "* p.daemon\n",
    "A Boolean flag that indicates whether or not the process is daemonic. A daemonic\n",
    "process is automatically terminated when the Python process that created it terminates.\n",
    "In addition, a daemonic process is prohibited from creating new processes on its own.\n",
    "The value of p.daemon must be set before a process is started using p.start() .\n",
    "\n",
    "* p.exitcode\n",
    "The integer exit code of the process. If the process is still running, this is None . If the\n",
    "value is negative, a value of –N means the process was terminated by signal N .\n",
    "* p.name\n",
    "The name of the process.\n",
    "* p.pid\n",
    "The integer process ID of the process."
   ]
  },
  {
   "cell_type": "code",
   "execution_count": 4,
   "metadata": {
    "collapsed": false
   },
   "outputs": [
    {
     "name": "stdout",
     "output_type": "stream",
     "text": [
      "Worker: 4\n"
     ]
    }
   ],
   "source": [
    "import multiprocessing\n",
    "\n",
    "def worker(num):\n",
    "    \"\"\"process worker function\"\"\"\n",
    "    print 'Worker:', num\n",
    "    return\n",
    "\n",
    "\n",
    "\n",
    "p = multiprocessing.Process(target=worker, args=(10,), name='example_process')\n",
    "p.start()"
   ]
  },
  {
   "cell_type": "code",
   "execution_count": 5,
   "metadata": {
    "collapsed": false
   },
   "outputs": [
    {
     "name": "stdout",
     "output_type": "stream",
     "text": [
      "Worker: 10\n"
     ]
    }
   ],
   "source": [
    "import multiprocessing\n",
    "\n",
    "def worker2(num):\n",
    "    \"\"\"process worker function 2\"\"\"\n",
    "    print 'Worker2:', num\n",
    "    return\n",
    "\n",
    "\n",
    "\n",
    "p = multiprocessing.Process(target=worker2, args=(10,), name='example_process')\n",
    "p.start()"
   ]
  },
  {
   "cell_type": "code",
   "execution_count": 7,
   "metadata": {
    "collapsed": true
   },
   "outputs": [],
   "source": [
    "import multiprocessing\n",
    "import time\n",
    "\n",
    "def worker3(num):\n",
    "    \"\"\"process worker function 2\"\"\"\n",
    "    while True:\n",
    "        print 'Worker2:', num\n",
    "        time.sleep(10)\n",
    "\n",
    "\n",
    "\n",
    "p1 = multiprocessing.Process(target=worker3, args=(10,), name='continuous_process')\n",
    "p1.start()"
   ]
  },
  {
   "cell_type": "code",
   "execution_count": 9,
   "metadata": {
    "collapsed": false
   },
   "outputs": [
    {
     "name": "stdout",
     "output_type": "stream",
     "text": [
      "Worker2: 10\n",
      "Worker2: 10\n"
     ]
    },
    {
     "data": {
      "text/plain": [
       "True"
      ]
     },
     "execution_count": 9,
     "metadata": {},
     "output_type": "execute_result"
    }
   ],
   "source": [
    "p1.is_alive()"
   ]
  },
  {
   "cell_type": "code",
   "execution_count": 10,
   "metadata": {
    "collapsed": false
   },
   "outputs": [
    {
     "name": "stdout",
     "output_type": "stream",
     "text": [
      "Worker2: 10\n",
      "Worker2: 10\n",
      "Worker2: 10\n",
      "Worker2: 10\n",
      "Worker2: 10\n",
      "Worker2: 10\n",
      "Worker2: 10\n"
     ]
    },
    {
     "data": {
      "text/plain": [
       "3473"
      ]
     },
     "execution_count": 10,
     "metadata": {},
     "output_type": "execute_result"
    }
   ],
   "source": [
    "p1.pid"
   ]
  },
  {
   "cell_type": "code",
   "execution_count": 11,
   "metadata": {
    "collapsed": false
   },
   "outputs": [
    {
     "name": "stdout",
     "output_type": "stream",
     "text": [
      "Worker2: 10\n",
      "Worker2: 10\n"
     ]
    },
    {
     "data": {
      "text/plain": [
       "'continuous_process'"
      ]
     },
     "execution_count": 11,
     "metadata": {},
     "output_type": "execute_result"
    }
   ],
   "source": [
    "p1.name"
   ]
  },
  {
   "cell_type": "code",
   "execution_count": 12,
   "metadata": {
    "collapsed": false
   },
   "outputs": [
    {
     "name": "stdout",
     "output_type": "stream",
     "text": [
      "Worker2: 10\n",
      "Worker2: 10\n",
      "Worker2: 10\n",
      "Worker2: 10\n",
      "Worker2: 10\n",
      "Worker2: 10\n",
      "Worker2: 10\n",
      "Worker2: 10\n",
      "Worker2: 10\n",
      "Worker2: 10\n",
      "Worker2: 10\n",
      "Worker2: 10\n",
      "Worker2: 10\n",
      "Worker2: 10\n",
      "Worker2: 10\n",
      "Worker2: 10\n",
      "Worker2: 10\n",
      "Worker2: 10\n",
      "Worker2: 10\n",
      "Worker2: 10\n",
      "Worker2: 10\n",
      "Worker2: 10\n"
     ]
    },
    {
     "data": {
      "text/plain": [
       "['_Popen',\n",
       " '__class__',\n",
       " '__delattr__',\n",
       " '__dict__',\n",
       " '__doc__',\n",
       " '__format__',\n",
       " '__getattribute__',\n",
       " '__hash__',\n",
       " '__init__',\n",
       " '__module__',\n",
       " '__new__',\n",
       " '__reduce__',\n",
       " '__reduce_ex__',\n",
       " '__repr__',\n",
       " '__setattr__',\n",
       " '__sizeof__',\n",
       " '__str__',\n",
       " '__subclasshook__',\n",
       " '__weakref__',\n",
       " '_args',\n",
       " '_authkey',\n",
       " '_bootstrap',\n",
       " '_daemonic',\n",
       " '_identity',\n",
       " '_kwargs',\n",
       " '_name',\n",
       " '_parent_pid',\n",
       " '_popen',\n",
       " '_target',\n",
       " '_tempdir',\n",
       " 'authkey',\n",
       " 'daemon',\n",
       " 'exitcode',\n",
       " 'ident',\n",
       " 'is_alive',\n",
       " 'join',\n",
       " 'name',\n",
       " 'pid',\n",
       " 'run',\n",
       " 'start',\n",
       " 'terminate']"
      ]
     },
     "execution_count": 12,
     "metadata": {},
     "output_type": "execute_result"
    }
   ],
   "source": [
    "dir(p)"
   ]
  },
  {
   "cell_type": "code",
   "execution_count": 13,
   "metadata": {
    "collapsed": false
   },
   "outputs": [
    {
     "name": "stdout",
     "output_type": "stream",
     "text": [
      "Worker2: 10\n",
      "Worker2: 10\n"
     ]
    },
    {
     "data": {
      "text/plain": [
       "False"
      ]
     },
     "execution_count": 13,
     "metadata": {},
     "output_type": "execute_result"
    }
   ],
   "source": [
    "p1.daemon"
   ]
  },
  {
   "cell_type": "code",
   "execution_count": 14,
   "metadata": {
    "collapsed": false
   },
   "outputs": [
    {
     "name": "stdout",
     "output_type": "stream",
     "text": [
      "Worker2: 10\n",
      "Worker2: 10\n"
     ]
    }
   ],
   "source": [
    "p1.exitcode # running in background. Returns None"
   ]
  },
  {
   "cell_type": "code",
   "execution_count": 15,
   "metadata": {
    "collapsed": false
   },
   "outputs": [
    {
     "name": "stdout",
     "output_type": "stream",
     "text": [
      "Worker2: 10\n",
      "Worker2: 10\n"
     ]
    },
    {
     "data": {
      "text/plain": [
       "0"
      ]
     },
     "execution_count": 15,
     "metadata": {},
     "output_type": "execute_result"
    }
   ],
   "source": [
    "p.exitcode # previously completed"
   ]
  },
  {
   "cell_type": "code",
   "execution_count": 16,
   "metadata": {
    "collapsed": false
   },
   "outputs": [
    {
     "name": "stdout",
     "output_type": "stream",
     "text": [
      "Worker2: 10\n",
      "Worker2: 10\n",
      "Worker2: 10\n",
      "Worker2: 10\n",
      "Worker2: 10\n",
      "Worker2: 10\n",
      "Worker2: 10\n",
      "Worker2: 10\n",
      "Worker2: 10\n",
      "Worker2: 10\n",
      "Worker2: 10\n",
      "Worker2: 10\n",
      "Worker2: 10\n",
      "Worker2: 10\n",
      "Worker2: 10\n",
      "Worker2: 10\n",
      "Worker2: 10\n",
      "Worker2: 10\n",
      "Worker2: 10\n",
      "Worker2: 10\n",
      "Worker2: 10\n",
      "Worker2: 10\n",
      "Worker2: 10\n",
      "Worker2: 10\n",
      "Worker2: 10\n",
      "Worker2: 10\n",
      "Worker2: 10\n",
      "Worker2: 10\n"
     ]
    }
   ],
   "source": [
    "p1.join(10) # blocks untill 10 seconds"
   ]
  },
  {
   "cell_type": "code",
   "execution_count": 18,
   "metadata": {
    "collapsed": false
   },
   "outputs": [
    {
     "name": "stdout",
     "output_type": "stream",
     "text": [
      "Worker2: 10\n",
      "Worker2: 10\n",
      "Worker2: 10\n",
      "Worker2: 10\n",
      "Worker2: 10\n"
     ]
    }
   ],
   "source": [
    "p.terminate()\n",
    "p1.terminate()"
   ]
  },
  {
   "cell_type": "markdown",
   "metadata": {},
   "source": [
    " ####multiprocessing supports two types of communication channel between processes:\n",
    "\n",
    "* Queues\n",
    "\n",
    "    The Queue class is a near clone of Queue.Queue. For example:\n",
    "\n",
    "    Queues are thread and process safe.\n"
   ]
  },
  {
   "cell_type": "code",
   "execution_count": 19,
   "metadata": {
    "collapsed": false
   },
   "outputs": [
    {
     "name": "stdout",
     "output_type": "stream",
     "text": [
      "[42, None, 'hello']\n"
     ]
    }
   ],
   "source": [
    "from multiprocessing import Process, Queue\n",
    "\n",
    "def f(q):\n",
    "    q.put([42, None, 'hello'])\n",
    "\n",
    "if __name__ == '__main__':\n",
    "    q = Queue()\n",
    "    p = Process(target=f, args=(q,))\n",
    "    p.start()\n",
    "    print q.get()    # prints \"[42, None, 'hello']\"\n",
    "    p.join()\n"
   ]
  },
  {
   "cell_type": "code",
   "execution_count": 20,
   "metadata": {
    "collapsed": true
   },
   "outputs": [],
   "source": [
    "p.terminate()"
   ]
  },
  {
   "cell_type": "markdown",
   "metadata": {},
   "source": [
    "* Pipes\n",
    "\n",
    "    The Pipe() function returns a pair of connection objects connected by a pipe which by default is duplex (two-way). For example:"
   ]
  },
  {
   "cell_type": "code",
   "execution_count": 22,
   "metadata": {
    "collapsed": false
   },
   "outputs": [
    {
     "name": "stdout",
     "output_type": "stream",
     "text": [
      "[42, None, 'hello']\n"
     ]
    }
   ],
   "source": [
    "from multiprocessing import Process, Pipe\n",
    "\n",
    "def f(conn):\n",
    "    conn.send([42, None, 'hello'])\n",
    "    conn.close()\n",
    "\n",
    "if __name__ == '__main__':\n",
    "    parent_conn, child_conn = Pipe()\n",
    "    p = Process(target=f, args=(child_conn,))\n",
    "    p.start()\n",
    "    print parent_conn.recv()   # prints \"[42, None, 'hello']\"\n",
    "    p.join()"
   ]
  },
  {
   "cell_type": "markdown",
   "metadata": {},
   "source": [
    "####synchronization\n"
   ]
  },
  {
   "cell_type": "code",
   "execution_count": 23,
   "metadata": {
    "collapsed": false
   },
   "outputs": [
    {
     "name": "stdout",
     "output_type": "stream",
     "text": [
      "hello world 0\n",
      "hello world 1\n"
     ]
    }
   ],
   "source": [
    "from multiprocessing import Process, Lock\n",
    "\n",
    "def f(l, i):\n",
    "    l.acquire()\n",
    "    print 'hello world', i\n",
    "    l.release()\n",
    "\n",
    "if __name__ == '__main__':\n",
    "    lock = Lock()\n",
    "\n",
    "    for num in range(10):\n",
    "        Process(target=f, args=(lock, num)).start()\n",
    "        "
   ]
  },
  {
   "cell_type": "markdown",
   "metadata": {},
   "source": [
    "###Threading"
   ]
  },
  {
   "cell_type": "markdown",
   "metadata": {},
   "source": [
    "```python\n",
    "class threading.Thread(group=None, target=None, name=None, args=(), kwargs={})\n",
    "```"
   ]
  },
  {
   "cell_type": "code",
   "execution_count": null,
   "metadata": {
    "collapsed": true
   },
   "outputs": [],
   "source": [
    "import threading\n",
    "\n",
    "def worker(num):\n",
    "    \"\"\"thread worker function\"\"\"\n",
    "    print 'Worker: %s' % num\n",
    "    return\n",
    "\n",
    "threads = []\n",
    "for i in range(5):\n",
    "    t = threading.Thread(target=worker, args=(i,))\n",
    "    threads.append(t)\n",
    "    t.start()"
   ]
  },
  {
   "cell_type": "markdown",
   "metadata": {},
   "source": [
    "####Determining the Current Thread\n",
    "\n",
    "* Using arguments to identify or name the thread is cumbersome, and unnecessary. \n",
    "* Each Thread instance has a name with a default value that can be changed as the thread is created. \n",
    "* Naming threads is useful in server processes with multiple service threads handling different operations.\n"
   ]
  },
  {
   "cell_type": "code",
   "execution_count": 24,
   "metadata": {
    "collapsed": false
   },
   "outputs": [
    {
     "name": "stdout",
     "output_type": "stream",
     "text": [
      "worker Starting\n",
      "Thread-3 Starting\n",
      "my_service Starting\n",
      "hello world 2\n",
      "hello world 3\n",
      "hello world 5\n",
      "hello world 4\n",
      "hello world 6\n",
      "hello world 7\n",
      "hello world 9\n",
      "hello world 8\n",
      "worker Exiting\n",
      "Thread-3 Exiting\n",
      "my_service Exiting\n"
     ]
    }
   ],
   "source": [
    "\n",
    "import threading\n",
    "import time\n",
    "\n",
    "def worker():\n",
    "    print threading.currentThread().getName(), 'Starting'\n",
    "    time.sleep(2)\n",
    "    print threading.currentThread().getName(), 'Exiting'\n",
    "\n",
    "def my_service():\n",
    "    print threading.currentThread().getName(), 'Starting'\n",
    "    time.sleep(3)\n",
    "    print threading.currentThread().getName(), 'Exiting'\n",
    "\n",
    "t = threading.Thread(name='my_service', target=my_service)\n",
    "w = threading.Thread(name='worker', target=worker)\n",
    "w2 = threading.Thread(target=worker) # use default name\n",
    "\n",
    "w.start()\n",
    "w2.start()\n",
    "t.start()\n"
   ]
  },
  {
   "cell_type": "markdown",
   "metadata": {},
   "source": [
    "* The __logging__ module supports embedding the thread name in every log message using the formatter code %(threadName)s. \n",
    "* Including thread names in log messages makes it easier to trace those messages back to their source.Mb"
   ]
  },
  {
   "cell_type": "code",
   "execution_count": 25,
   "metadata": {
    "collapsed": true
   },
   "outputs": [],
   "source": [
    "import logging\n",
    "import threading\n",
    "import time\n",
    "\n",
    "logging.basicConfig(level=logging.DEBUG,\n",
    "                    format='[%(levelname)s] (%(threadName)-10s) %(message)s',\n",
    "                    )\n",
    "\n",
    "def worker():\n",
    "    logging.debug('Starting')\n",
    "    time.sleep(2)\n",
    "    logging.debug('Exiting')\n",
    "\n",
    "def my_service():\n",
    "    logging.debug('Starting')\n",
    "    time.sleep(3)\n",
    "    logging.debug('Exiting')\n",
    "\n",
    "t = threading.Thread(name='my_service', target=my_service)\n",
    "w = threading.Thread(name='worker', target=worker)\n",
    "w2 = threading.Thread(target=worker) # use default name\n",
    "\n",
    "w.start()\n",
    "w2.start()\n",
    "t.start()\n"
   ]
  },
  {
   "cell_type": "markdown",
   "metadata": {},
   "source": [
    "### Subclassing Thread\n",
    "\n",
    "* At start-up, a Thread does some basic initialization and then calls its __run()__ method, which calls the target function passed to the constructor. \n",
    "* To create a subclass of Thread, override __run()__ to do whatever is necessary\n"
   ]
  },
  {
   "cell_type": "code",
   "execution_count": null,
   "metadata": {
    "collapsed": true
   },
   "outputs": [],
   "source": [
    "import threading\n",
    "import logging\n",
    "\n",
    "logging.basicConfig(level=logging.DEBUG,\n",
    "                    format='(%(threadName)-10s) %(message)s',\n",
    "                    )\n",
    "\n",
    "class MyThread(threading.Thread):\n",
    "\n",
    "    def run(self):\n",
    "        logging.debug('running')\n",
    "        return\n",
    "\n",
    "for i in range(5):\n",
    "    t = MyThread()\n",
    "    t.start()\n",
    "    "
   ]
  },
  {
   "cell_type": "code",
   "execution_count": null,
   "metadata": {
    "collapsed": true
   },
   "outputs": [],
   "source": [
    "import threading\n",
    "import logging\n",
    "\n",
    "logging.basicConfig(level=logging.DEBUG,\n",
    "                    format='(%(threadName)-10s) %(message)s',\n",
    "                    )\n",
    "\n",
    "class MyThreadWithArgs(threading.Thread):\n",
    "\n",
    "    def __init__(self, group=None, target=None, name=None,\n",
    "                 args=(), kwargs=None, verbose=None):\n",
    "        threading.Thread.__init__(self, group=group, target=target, name=name,\n",
    "                                  verbose=verbose)\n",
    "        self.args = args\n",
    "        self.kwargs = kwargs\n",
    "        return\n",
    "\n",
    "    def run(self):\n",
    "        logging.debug('running with %s and %s', self.args, self.kwargs)\n",
    "        return\n",
    "\n",
    "for i in range(5):\n",
    "    t = MyThreadWithArgs(args=(i,), kwargs={'a':'A', 'b':'B'})\n",
    "    t.start()"
   ]
  },
  {
   "cell_type": "markdown",
   "metadata": {},
   "source": [
    "###Subprocess "
   ]
  },
  {
   "cell_type": "code",
   "execution_count": 27,
   "metadata": {
    "collapsed": false
   },
   "outputs": [
    {
     "name": "stdout",
     "output_type": "stream",
     "text": [
      "['/home/amuneer/workspace/notebook/personal/pace_micro_sep_2015/day3\\n']\n"
     ]
    }
   ],
   "source": [
    "import subprocess\n",
    "ls = subprocess.Popen(\"pwd\",\n",
    "                       shell=False,\n",
    "                       stdout=subprocess.PIPE,\n",
    "                       stderr=subprocess.PIPE)\n",
    "x = ls.stdout.readlines()\n",
    "print x"
   ]
  },
  {
   "cell_type": "code",
   "execution_count": 28,
   "metadata": {
    "collapsed": false
   },
   "outputs": [
    {
     "name": "stdout",
     "output_type": "stream",
     "text": [
      "['Linux abdul-work 3.16.0-49-generic #65~14.04.1-Ubuntu SMP Wed Sep 9 10:03:23 UTC 2015 x86_64 x86_64 x86_64 GNU/Linux\\n']\n"
     ]
    }
   ],
   "source": [
    "import subprocess\n",
    "import sys\n",
    "\n",
    "HOST=\"localhost\"\n",
    "# Ports are handled in ~/.ssh/config since we use OpenSSH\n",
    "COMMAND=\"uname -a\"\n",
    "\n",
    "ssh = subprocess.Popen([\"ssh\", \"%s\" % HOST, COMMAND],\n",
    "                       shell=False,\n",
    "                       stdout=subprocess.PIPE,\n",
    "                       stderr=subprocess.PIPE)\n",
    "result = ssh.stdout.readlines()\n",
    "if result == []:\n",
    "    error = ssh.stderr.readlines()\n",
    "    print >>sys.stderr, \"ERROR: %s\" % error\n",
    "else:\n",
    "    print result\n",
    "    "
   ]
  },
  {
   "cell_type": "markdown",
   "metadata": {
    "collapsed": true
   },
   "source": [
    " ```python\n",
    " subprocess.call(args, *, stdin=None, stdout=None, stderr=None, shell=False)\n",
    " ```\n",
    "\n",
    "    - Run the command described by args. Wait for command to complete, then return the returncode attribute.\n",
    "    - Do not use stdout=PIPE or stderr=PIPE with this function as that can deadlock based on the child process output volume. \n",
    "    - Use Popen with the communicate() method when you need pipes.\n",
    "    \n",
    "    \n",
    "    "
   ]
  },
  {
   "cell_type": "markdown",
   "metadata": {},
   "source": [
    " ```python\n",
    " subprocess.check_call(args, *, stdin=None, stdout=None, stderr=None, shell=False)\n",
    " ```\n",
    "\n",
    " - Run command with arguments. Wait for command to complete. If the return code was zero then return, otherwise raise CalledProcessError. The CalledProcessError object will have the return code in the returncode attribute."
   ]
  },
  {
   "cell_type": "markdown",
   "metadata": {},
   "source": [
    " ```python\n",
    "subprocess.check_output(args, *, stdin=None, stderr=None, shell=False, universal_newlines=False)\n",
    "```\n",
    "\n",
    "- Run command with arguments and return its output as a byte string.\n",
    "- If the return code was non-zero it raises a CalledProcessError. The CalledProcessError object will have the return code in the returncode attribute and any output in the output attribute."
   ]
  },
  {
   "cell_type": "code",
   "execution_count": null,
   "metadata": {
    "collapsed": true
   },
   "outputs": [],
   "source": []
  }
 ],
 "metadata": {
  "kernelspec": {
   "display_name": "Python 2",
   "language": "python",
   "name": "python2"
  },
  "language_info": {
   "codemirror_mode": {
    "name": "ipython",
    "version": 2
   },
   "file_extension": ".py",
   "mimetype": "text/x-python",
   "name": "python",
   "nbconvert_exporter": "python",
   "pygments_lexer": "ipython2",
   "version": "2.7.6"
  }
 },
 "nbformat": 4,
 "nbformat_minor": 0
}
