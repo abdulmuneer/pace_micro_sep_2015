{
 "cells": [
  {
   "cell_type": "markdown",
   "metadata": {},
   "source": [
    "-  Object Oriented Concepts:\n",
    "    -  Python objects\n",
    "    -  Classes\n",
    "    -  creation of object\n",
    "    -  inheritance\n",
    "    -  class attributes\n",
    "-  Modules\n",
    "- .py and .pyc files\n",
    "-  identity, introspection\n",
    "-  String Processing\n",
    "\n",
    "_________________________________"
   ]
  },
  {
   "cell_type": "code",
   "execution_count": 20,
   "metadata": {
    "collapsed": false
   },
   "outputs": [
    {
     "name": "stdout",
     "output_type": "stream",
     "text": [
      "<type 'instance'>\n",
      "['__doc__', '__module__', 'travel']\n",
      "['__doc__', '__module__', 'travel']\n",
      "**************************************************\n",
      "['__doc__', '__module__', 'get_wheel_count', 'travel']\n",
      "['__doc__', '__module__', 'get_wheel_count', 'travel']\n"
     ]
    }
   ],
   "source": [
    "# old style classes\n",
    "\n",
    "class Vehicle:\n",
    "    '''\n",
    "    This is a general class of vehicle\n",
    "    '''\n",
    "    def travel():\n",
    "        print 'travelling'\n",
    "        \n",
    "class Surface_Vehicles(Vehicle):\n",
    "    def get_wheel_count():\n",
    "        return 4\n",
    "        \n",
    "m_800 = Vehicle()\n",
    "print type(m_800)\n",
    "#help(m_800)\n",
    "print dir(m_800)\n",
    "print dir(Vehicle)\n",
    "\n",
    "m_801 = Surface_Vehicles()\n",
    "print \"*\"*50\n",
    "print dir(m_801)\n",
    "print dir(Surface_Vehicles)\n",
    "\n",
    "#print m_800.__doc__"
   ]
  },
  {
   "cell_type": "code",
   "execution_count": 50,
   "metadata": {
    "collapsed": false
   },
   "outputs": [
    {
     "name": "stdout",
     "output_type": "stream",
     "text": [
      "Hi\n",
      "Hi\n",
      "hello\n",
      "hello\n"
     ]
    }
   ],
   "source": [
    "# New style classes\n",
    "\n",
    "class Vehicle(object):\n",
    "    '''\n",
    "    This is a general class of vehicle\n",
    "    '''\n",
    "    \n",
    "    def travel(self):\n",
    "        print 'travelling'\n",
    "        \n",
    "class Surface_Vehicles(Vehicle, object):\n",
    "    def __init__(self, color, fuel):\n",
    "        self.color = color\n",
    "        self.fuel = fuel\n",
    "        \n",
    "    def get_wheel_count(self):\n",
    "        return 4\n",
    "    def get_mileage(self):\n",
    "        if self.fuel == 'diesel':\n",
    "            return 25\n",
    "        else:\n",
    "            return 15\n",
    "    def get_travel_cost(self, distance):\n",
    "        #get fule needed\n",
    "        fuel_needed = distance/get_mileage(self)\n",
    "        cost = fuel_needed * __get_fuel_cost(self.fuel)\n",
    "        \n",
    "    @classmethod\n",
    "    def greet(cls):\n",
    "        print \"hello\"\n",
    "    \n",
    "    @staticmethod\n",
    "    def another_greet():\n",
    "        print \"Hi\"\n",
    "        \n",
    "    \n",
    "    def __get_fuel_cost(fuel_type):\n",
    "        pass\n",
    "    \n",
    "    def another_util_function():\n",
    "        pass\n",
    "        \n",
    "m_800 = Vehicle()\n",
    "#print type(m_800)\n",
    "#help(m_800)\n",
    "#print dir(m_800)\n",
    "#print dir(Vehicle)\n",
    "\n",
    "\n",
    "m_801 = Surface_Vehicles('white', 'diesel')\n",
    "m_802 = Surface_Vehicles('blue', 'petrol')\n",
    "#print type(m_801)\n",
    "\n",
    "#print \"*\"*50\n",
    "#print dir(m_801)\n",
    "#print dir(m_802)\n",
    "# print dir(Surface_Vehicles)\n",
    "\n",
    "# print isinstance(m_801, Surface_Vehicles)\n",
    "# print isinstance(m_801, Vehicle)\n",
    "\n",
    "#print m_801.get_wheel_count()\n",
    "\n",
    "#print m_800.__doc__\n",
    "#print m_801.get_mileage()\n",
    "#print m_801.fuel\n",
    "#print m_801.__dict__\n",
    "\n",
    "#print m_802.get_mileage()\n",
    "#print m_802.fuel\n",
    "#print m_802.__dict__\n",
    "#m_801.__get_fuel_cost()\n",
    "\n",
    "m_801.another_greet() #static\n",
    "Surface_Vehicles.another_greet() #static\n",
    "\n",
    "Surface_Vehicles.greet() #class\n",
    "m_801.greet() #class"
   ]
  },
  {
   "cell_type": "markdown",
   "metadata": {},
   "source": [
    "-  String Processing\n",
    "\n",
    "__String Operations__:\n",
    "\n",
    "* Once a string is created, it cannot be modified (immutability).\n",
    "* Any operation that modifies a string will in fact create a new string\n",
    "\n",
    "___operations___:\n",
    "\n",
    "* addition\n",
    "* slicing\n",
    "* replacing\n",
    "* comparison\n",
    "* substring check\n",
    "* find\n",
    "* split\n",
    "* join\n",
    "* upper/lower\n"
   ]
  },
  {
   "cell_type": "code",
   "execution_count": 54,
   "metadata": {
    "collapsed": false
   },
   "outputs": [
    {
     "name": "stdout",
     "output_type": "stream",
     "text": [
      "a\n",
      "b\n",
      "r\n",
      "a\n",
      "c\n",
      "a\n",
      "d\n",
      "a\n",
      "b\n",
      "r\n",
      "a\n"
     ]
    }
   ],
   "source": [
    "x = 'abracadabra'\n",
    "for char in x:\n",
    "    print char"
   ]
  },
  {
   "cell_type": "code",
   "execution_count": 56,
   "metadata": {
    "collapsed": false
   },
   "outputs": [
    {
     "data": {
      "text/plain": [
       "'c'"
      ]
     },
     "execution_count": 56,
     "metadata": {},
     "output_type": "execute_result"
    }
   ],
   "source": [
    "x[4]"
   ]
  },
  {
   "cell_type": "raw",
   "metadata": {},
   "source": []
  },
  {
   "cell_type": "code",
   "execution_count": 60,
   "metadata": {
    "collapsed": false
   },
   "outputs": [
    {
     "data": {
      "text/plain": [
       "'raca'"
      ]
     },
     "execution_count": 60,
     "metadata": {},
     "output_type": "execute_result"
    }
   ],
   "source": [
    "x[2:6]"
   ]
  },
  {
   "cell_type": "code",
   "execution_count": 63,
   "metadata": {
    "collapsed": false
   },
   "outputs": [
    {
     "name": "stdout",
     "output_type": "stream",
     "text": [
      "['__add__', '__class__', '__contains__', '__delattr__', '__doc__', '__eq__', '__format__', '__ge__', '__getattribute__', '__getitem__', '__getnewargs__', '__getslice__', '__gt__', '__hash__', '__init__', '__le__', '__len__', '__lt__', '__mod__', '__mul__', '__ne__', '__new__', '__reduce__', '__reduce_ex__', '__repr__', '__rmod__', '__rmul__', '__setattr__', '__sizeof__', '__str__', '__subclasshook__', '_formatter_field_name_split', '_formatter_parser', 'capitalize', 'center', 'count', 'decode', 'encode', 'endswith', 'expandtabs', 'find', 'format', 'index', 'isalnum', 'isalpha', 'isdigit', 'islower', 'isspace', 'istitle', 'isupper', 'join', 'ljust', 'lower', 'lstrip', 'partition', 'replace', 'rfind', 'rindex', 'rjust', 'rpartition', 'rsplit', 'rstrip', 'split', 'splitlines', 'startswith', 'strip', 'swapcase', 'title', 'translate', 'upper', 'zfill']\n"
     ]
    }
   ],
   "source": [
    "x.startswith('a')\n",
    "print dir(x)"
   ]
  },
  {
   "cell_type": "code",
   "execution_count": 66,
   "metadata": {
    "collapsed": false
   },
   "outputs": [
    {
     "name": "stdout",
     "output_type": "stream",
     "text": [
      "capitalize center count decode encode endswith expandtabs find format index isalnum isalpha isdigit islower isspace istitle isupper join ljust lower lstrip partition replace rfind rindex rjust rpartition rsplit rstrip split splitlines startswith strip swapcase title translate upper zfill\n"
     ]
    }
   ],
   "source": [
    "for item in dir(x):\n",
    "    if not item.startswith('_'):\n",
    "        print item, "
   ]
  },
  {
   "cell_type": "code",
   "execution_count": 68,
   "metadata": {
    "collapsed": false
   },
   "outputs": [
    {
     "name": "stdout",
     "output_type": "stream",
     "text": [
      "abracadabra\n"
     ]
    },
    {
     "data": {
      "text/plain": [
       "['', 'br', 'c', 'd', 'br', '']"
      ]
     },
     "execution_count": 68,
     "metadata": {},
     "output_type": "execute_result"
    }
   ],
   "source": [
    "print x\n",
    "x.split('a')"
   ]
  },
  {
   "cell_type": "code",
   "execution_count": 70,
   "metadata": {
    "collapsed": false
   },
   "outputs": [
    {
     "data": {
      "text/plain": [
       "'BBBbrBBBcBBBdBBBbrBBB'"
      ]
     },
     "execution_count": 70,
     "metadata": {},
     "output_type": "execute_result"
    }
   ],
   "source": [
    "'BBB'.join(x.split('a'))"
   ]
  },
  {
   "cell_type": "code",
   "execution_count": 72,
   "metadata": {
    "collapsed": false
   },
   "outputs": [
    {
     "name": "stdout",
     "output_type": "stream",
     "text": [
      "abc\n"
     ]
    }
   ],
   "source": [
    "y = \"  abc \\n\"\n",
    "print y.strip()"
   ]
  },
  {
   "cell_type": "code",
   "execution_count": 73,
   "metadata": {
    "collapsed": false
   },
   "outputs": [
    {
     "data": {
      "text/plain": [
       "'ABRACADABRA'"
      ]
     },
     "execution_count": 73,
     "metadata": {},
     "output_type": "execute_result"
    }
   ],
   "source": [
    "x.upper()\n"
   ]
  },
  {
   "cell_type": "code",
   "execution_count": 75,
   "metadata": {
    "collapsed": false
   },
   "outputs": [
    {
     "ename": "AttributeError",
     "evalue": "'str' object has no attribute 'sort'",
     "output_type": "error",
     "traceback": [
      "\u001b[1;31m---------------------------------------------------------------------------\u001b[0m",
      "\u001b[1;31mAttributeError\u001b[0m                            Traceback (most recent call last)",
      "\u001b[1;32m<ipython-input-75-42dad5a67ac3>\u001b[0m in \u001b[0;36m<module>\u001b[1;34m()\u001b[0m\n\u001b[1;32m----> 1\u001b[1;33m \u001b[0mx\u001b[0m\u001b[1;33m.\u001b[0m\u001b[0msort\u001b[0m\u001b[1;33m(\u001b[0m\u001b[1;33m)\u001b[0m\u001b[1;33m\u001b[0m\u001b[0m\n\u001b[0m",
      "\u001b[1;31mAttributeError\u001b[0m: 'str' object has no attribute 'sort'"
     ]
    }
   ],
   "source": [
    "x.sort()"
   ]
  },
  {
   "cell_type": "code",
   "execution_count": 77,
   "metadata": {
    "collapsed": false
   },
   "outputs": [
    {
     "name": "stdout",
     "output_type": "stream",
     "text": [
      "['a', 'a', 'a', 'a', 'a', 'b', 'b', 'c', 'd', 'r', 'r']\n"
     ]
    }
   ],
   "source": [
    "a = sorted(x)\n",
    "print a\n",
    "b = ''.join(sorted(x))"
   ]
  },
  {
   "cell_type": "code",
   "execution_count": 78,
   "metadata": {
    "collapsed": false
   },
   "outputs": [
    {
     "data": {
      "text/plain": [
       "'aaaaabbcdrr'"
      ]
     },
     "execution_count": 78,
     "metadata": {},
     "output_type": "execute_result"
    }
   ],
   "source": [
    "b"
   ]
  },
  {
   "cell_type": "code",
   "execution_count": 81,
   "metadata": {
    "collapsed": false
   },
   "outputs": [
    {
     "data": {
      "text/plain": [
       "['abracadabra']"
      ]
     },
     "execution_count": 81,
     "metadata": {},
     "output_type": "execute_result"
    }
   ],
   "source": [
    "x.split()"
   ]
  },
  {
   "cell_type": "code",
   "execution_count": 82,
   "metadata": {
    "collapsed": false
   },
   "outputs": [
    {
     "data": {
      "text/plain": [
       "['abracadabra']"
      ]
     },
     "execution_count": 82,
     "metadata": {},
     "output_type": "execute_result"
    }
   ],
   "source": [
    "x.split('z')"
   ]
  },
  {
   "cell_type": "code",
   "execution_count": 84,
   "metadata": {
    "collapsed": false
   },
   "outputs": [
    {
     "data": {
      "text/plain": [
       "1"
      ]
     },
     "execution_count": 84,
     "metadata": {},
     "output_type": "execute_result"
    }
   ],
   "source": [
    "x.find('br')"
   ]
  },
  {
   "cell_type": "code",
   "execution_count": null,
   "metadata": {
    "collapsed": true
   },
   "outputs": [],
   "source": []
  }
 ],
 "metadata": {
  "kernelspec": {
   "display_name": "Python 2",
   "language": "python",
   "name": "python2"
  },
  "language_info": {
   "codemirror_mode": {
    "name": "ipython",
    "version": 2
   },
   "file_extension": ".py",
   "mimetype": "text/x-python",
   "name": "python",
   "nbconvert_exporter": "python",
   "pygments_lexer": "ipython2",
   "version": "2.7.10"
  }
 },
 "nbformat": 4,
 "nbformat_minor": 0
}
