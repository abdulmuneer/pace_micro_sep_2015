{
 "cells": [
  {
   "cell_type": "markdown",
   "metadata": {},
   "source": [
    "    Introduction, Use cases of python\n",
    "    Python interpretor, console.\n",
    "\n",
    "    Interactive mode, file mode, dir, help, type\n",
    "    Advanced Data Structures: Containers list, tuple, dictionary, set\n",
    "    Functions:\n",
    "        Syntax\n",
    "        Invocation\n",
    "        Parameter passing, Parameter passing with names\n",
    "        Idea of pass by object\n",
    "        Recursion and Nesting of functions"
   ]
  },
  {
   "cell_type": "markdown",
   "metadata": {},
   "source": [
    "Basic Data Structures : \n",
    "* int, float, str\n",
    "* Possible operations on above datatypes\n",
    "* Variables\n",
    "* Dynamic typing\n",
    "\n"
   ]
  },
  {
   "cell_type": "markdown",
   "metadata": {},
   "source": [
    "__Numbers__:\n",
    "\n",
    "* int \n",
    "\n",
    "```python\n",
    "x = 10\n",
    "y = -1\n",
    "z = 1000\n",
    "```\n",
    "* float\n",
    "\n",
    "```python\n",
    "x = 10.1\n",
    "y = -1.1\n",
    "z = 3.14\n",
    "```\n",
    "* complex\n",
    "\n",
    "```python\n",
    "x = 10 + 2j\n",
    "y = -1j\n",
    "```"
   ]
  },
  {
   "cell_type": "markdown",
   "metadata": {},
   "source": [
    "__Boolean and None__\n",
    "\n",
    "```python\n",
    "True\n",
    "False\n",
    "None\n",
    "```"
   ]
  },
  {
   "cell_type": "markdown",
   "metadata": {},
   "source": [
    "Arithmetic Operations:\n",
    "* Assignment: =\n",
    "* Addition: +\n",
    "* Subtraction: -\n",
    "* Division: /\n",
    "* Multiplication: *\n",
    "\n",
    "* Power: `**`\n",
    "* Modulo: %\n",
    "* Floor division: //\n",
    "\n",
    "* precedence `*, /, %, //` takes precedence over `+, -`\n",
    "\n",
    "```python\n",
    "2+3*2-5 = 3\n",
    "```\n",
    "* reference: https://docs.python.org/2/reference/expressions.html#operator-precedence\n",
    "* We can force precedence by enclosing them in parantheses. \n",
    "\n",
    "```python\n",
    "(2+3)*2-5 = 5\n",
    "```"
   ]
  },
  {
   "cell_type": "markdown",
   "metadata": {},
   "source": [
    "__Strings__\n",
    "\n",
    "```python\n",
    "p = 'a'\n",
    "q = \"b\"\n",
    "x = 'this is a single quoted String'\n",
    "y = \"this is a double quoted String\"\n",
    "z = \"\"\"This is a triple \n",
    "quoted string\"\"\"\n",
    "note = '''Triple quoted strings can contain multi line strings'''\n",
    "```"
   ]
  },
  {
   "cell_type": "markdown",
   "metadata": {},
   "source": [
    "__Type Conversion__\n",
    "\n",
    "* converting string to a number\n",
    "* converting number to a string\n",
    "* converting between numbers\n",
    "* implicit conversion"
   ]
  },
  {
   "cell_type": "markdown",
   "metadata": {},
   "source": [
    "+++++++++++++++++++++++++++++++++++++++++++++++++++++++"
   ]
  },
  {
   "cell_type": "markdown",
   "metadata": {},
   "source": [
    "    Basic Programming constructs:\n",
    "        Conditions : If, else, elif\n",
    "        Loops: while, break, continue, for"
   ]
  },
  {
   "cell_type": "markdown",
   "metadata": {},
   "source": [
    "#### Conditions:\n",
    "__if:__\n",
    "\n",
    "```python\n",
    "if (condition):\n",
    "    do something\n",
    "```\n",
    "\n",
    "* The if block is executed when `condition` evavulates to True\n",
    "* The block after `if` starts with an indentation\n"
   ]
  },
  {
   "cell_type": "markdown",
   "metadata": {},
   "source": [
    "__Python `Truthiness`__ :\n",
    "\n",
    "* 0, 0.0, None, '' (empty string) all evaluates to False\n",
    "* Any non-zero number and string evaluates to True\n",
    "\n",
    "* Any empty container types will evaluate to False (covered later)\n"
   ]
  },
  {
   "cell_type": "markdown",
   "metadata": {},
   "source": [
    "__Boolean Operators__:\n",
    "\n",
    "```python\n",
    "and\n",
    "or\n",
    "not\n",
    "```"
   ]
  },
  {
   "cell_type": "markdown",
   "metadata": {},
   "source": [
    "\n",
    "```python\n",
    "if (condition):\n",
    "    do something\n",
    "else:\n",
    "    do this\n",
    "```\n",
    "* The `else` keyword does not take any conditions.\n",
    "* Executes when the previous conditions are evaluated to false\n",
    "\n",
    "e.g.:\n",
    "\n",
    "```python\n",
    "if (10%2):\n",
    "    print \"Number is odd\"\n",
    "else:\n",
    "    print \"Number is even\"\n",
    "```\n"
   ]
  },
  {
   "cell_type": "markdown",
   "metadata": {},
   "source": [
    "__The `elif` condition__:\n",
    "\n",
    "```python\n",
    "if (weekdays):\n",
    "    work\n",
    "elif (saturday):\n",
    "    play\n",
    "else:\n",
    "    rest\n",
    "```\n",
    "* The `elif` keyword takes conditions similar to `if`.\n",
    "* useful for handling different cases\n",
    "\n",
    "e.g.:\n",
    "\n",
    "```python\n",
    "x = 108\n",
    "if not (x%15):\n",
    "    print \"Number is perfectly divisible by 3 and 5\"\n",
    "elif not(x%5):\n",
    "    print \"Number is perfectly divisible by 5 but not by 3\"\n",
    "elif not(x%3):\n",
    "    print \"Number is perfectly divisible by 3 but not by 5\"\n",
    "else:\n",
    "    print \"Number is not perfectly divisible by 3 or 5\"\n",
    "```\n"
   ]
  },
  {
   "cell_type": "code",
   "execution_count": null,
   "metadata": {
    "collapsed": true
   },
   "outputs": [],
   "source": [
    "x = 108\n",
    "if not (x%15):\n",
    "    print \"Number is perfectly divisible by 3 and 5\"\n",
    "elif not(x%5):\n",
    "    print \"Number is perfectly divisible by 5 but not by 3\"\n",
    "elif not(x%3):\n",
    "    print \"Number is perfectly divisible by 3 but not by 5\"\n",
    "else:\n",
    "    print \"Number is not perfectly divisible by 3 or 5\""
   ]
  },
  {
   "cell_type": "markdown",
   "metadata": {},
   "source": [
    "__while loop:__\n",
    "\n",
    "* syntax:\n",
    "```python\n",
    "while weekday:\n",
    "    keep working\n",
    "```\n",
    "\n",
    "* similar to `if` in checking a condtion.\n",
    "* But continues to execute the code block while the condition is True.\n",
    "* So this will run forever:\n",
    "\n",
    "```python\n",
    "while True:\n",
    "    print \"I am running for ever\"\n",
    "```\n",
    "\n",
    "* so we typically need to alter the `condition` in the code block \n",
    "\n"
   ]
  },
  {
   "cell_type": "markdown",
   "metadata": {},
   "source": [
    "__for:__\n",
    "\n",
    "```python\n",
    "for temp_variable in collection:\n",
    "    do something\n",
    "```\n",
    "\n",
    "* e.g.:\n",
    "\n",
    "```python\n",
    "for num in (1,2,3,4,5,6,7,8,9,10):\n",
    "    if num%2:\n",
    "        print num, \"is Odd\"\n",
    "    else:\n",
    "        print num, \"is Even\"\n",
    "```\n",
    "\n",
    "* The `for` loop goes through each item one by one.\n",
    "* in the above example `num` takes new value each time."
   ]
  },
  {
   "cell_type": "markdown",
   "metadata": {},
   "source": [
    "__break and continue:__\n",
    "\n",
    "```python\n",
    "break\n",
    "```\n",
    "\n",
    "* this statement makes the program to exit from the loop it is executing\n",
    "```python\n",
    "for num in (1,2,3,4,5,6,7,8,9,10):\n",
    "    if num%5:\n",
    "        print \"I am okay with the number \", 5\n",
    "    else:\n",
    "        print \"I hate multiples of 5. I am quitting this loop\"\n",
    "        break\n",
    "```        \n",
    "=======================\n",
    "\n",
    "```python\n",
    "continue\n",
    "```\n",
    "\n",
    "* this statement makes the program to skip the rest of the loop and go to next cycle\n",
    "\n",
    "```python\n",
    "#medical checks for a health insurance scheme\n",
    "for age in (20, 30, 40, 50, 60, 70):\n",
    "    if age<=30: #no test needed. skip through\n",
    "        continue\n",
    "        \n",
    "    #prileimenary tests are needed\n",
    "    do preliminery test\n",
    "    \n",
    "    if 30<age<=50:#skip through further tests\n",
    "        continue\n",
    "    \n",
    "    do advanced tests\n",
    "       \n",
    "       \n",
    "        \n",
    "```\n",
    "\n",
    "* break and continue statements are applicable in both for and while loops.\n",
    "\n"
   ]
  },
  {
   "cell_type": "code",
   "execution_count": null,
   "metadata": {
    "collapsed": true
   },
   "outputs": [],
   "source": [
    "for num in (1,2,3,4,5,6,7,8,9,10):\n",
    "    if num%5:\n",
    "        print \"I am okay with the number \", num\n",
    "    else:\n",
    "        print \"quitting this loop\"\n",
    "        break"
   ]
  },
  {
   "cell_type": "markdown",
   "metadata": {},
   "source": [
    "__Interactive mode, dir, help, type__\n",
    "\n",
    "* invoking a python file with a '-i' flag starts in interactive mode\n",
    "* e.g.:  python -i test.py\n",
    "* It will execute the program in the file test.py and the console will not exit\n",
    "* All the variables declared in the file will be available in the console\n",
    "\n",
    "```python\n",
    "dir\n",
    "```\n",
    "\n",
    "* This is a special method to see all variables and menthods available in the object\n",
    "* We will revisit this later\n",
    "\n",
    "```python\n",
    "help\n",
    "```\n",
    "\n",
    "* Help function shows available help for methods\n",
    "* let us try :)\n",
    "```\n",
    "help(dir)\n",
    "```\n",
    "\n",
    "```python\n",
    "type\n",
    "```\n",
    "\n",
    "* type shows, well, the type of the object\n",
    "* let us try:\n",
    "\n",
    "```python\n",
    "type(1)\n",
    "type(2.2)\n",
    "type('examples')\n",
    "```\n"
   ]
  },
  {
   "cell_type": "markdown",
   "metadata": {},
   "source": [
    "__Advanced Data Structures:__ \n",
    "tuple\n",
    "list\n",
    "dictionary\n",
    "set\n",
    "Frozenset\n",
    "\n",
    "* They are container datatypes in the sense it contains primitive datatypes\n",
    "* containers can contain multiple datatypes in them\n",
    "\n",
    "```python\n",
    "tuple\n",
    "\n",
    "x = (1,2,3)\n",
    "y = (3.14, 'pi')\n",
    "\n",
    "```\n",
    "\n",
    "* tuples cannot be modified later (immutable)\n",
    "* len will show the length\n",
    "* each element can be addressed by index\n",
    "* slice operations are allowed like strings\n",
    "\n",
    "```python\n",
    "length = len(x)\n",
    "\n",
    "```\n",
    "\n"
   ]
  },
  {
   "cell_type": "markdown",
   "metadata": {},
   "source": [
    "```python\n",
    "list\n",
    "\n",
    "x = [1,2,3]\n",
    "y = [3.14, 'pi']\n",
    "\n",
    "```\n",
    "\n",
    "* list is like tuple, but mutable\n",
    "* supports all operations of tuple\n",
    "* possible operations: len, access by index, assign by index, slice, extend, append\n",
    "* list and tuples can be typecasted.\n"
   ]
  },
  {
   "cell_type": "markdown",
   "metadata": {},
   "source": [
    "```python\n",
    "dict\n",
    "\n",
    "# key value pair\n",
    "x = {'name': 'Bob', 'age': 28}\n",
    "#access by key instead of index\n",
    "x['name']\n",
    "#assignments possible\n",
    "x['name'] = 'Alice'\n",
    "#additional entries can be added\n",
    "x['country'] = 'India'\n",
    "#elements can be removed\n",
    "del(x['age'])\n",
    "\n",
    "#additional operations: keys(), values(), items(), update()\n",
    "\n",
    "```\n"
   ]
  },
  {
   "cell_type": "markdown",
   "metadata": {},
   "source": [
    "```python\n",
    "set\n",
    "\n",
    "#contains onlyt unique elements\n",
    "\n",
    "x = set([1, 2, 3, 2, 5])\n",
    "\n",
    "# unordered collection of immutable values.\n",
    "# can be created from tuple or lists\n",
    "# all mathematical set operations are possible.\n",
    "# add, remove, union, subset, intersection, add etc.\n",
    "# unlike lists and tuples, sets cannot be accessed by index\n",
    "\n",
    "frozenset\n",
    "\n",
    "#frozenset is the immutable version of set.\n",
    "#operations like add, remove are not allowed.\n",
    "\n",
    "```"
   ]
  },
  {
   "cell_type": "markdown",
   "metadata": {},
   "source": [
    "##Functions"
   ]
  },
  {
   "cell_type": "code",
   "execution_count": null,
   "metadata": {
    "collapsed": true
   },
   "outputs": [],
   "source": [
    "#Function declaration\n",
    "def adder(x, y):\n",
    "    '''\n",
    "    This is a function to add two numbers\n",
    "    '''\n",
    "    return x+y\n"
   ]
  },
  {
   "cell_type": "code",
   "execution_count": null,
   "metadata": {
    "collapsed": true
   },
   "outputs": [],
   "source": [
    "#calling a function \n",
    "adder(2,3)\n",
    "#help(adder)"
   ]
  },
  {
   "cell_type": "code",
   "execution_count": 2,
   "metadata": {
    "collapsed": true
   },
   "outputs": [],
   "source": [
    "# Accepting variable number of arguments\n",
    "def adder(x, y, *arg ):\n",
    "    print x, y, arg"
   ]
  },
  {
   "cell_type": "code",
   "execution_count": null,
   "metadata": {
    "collapsed": true
   },
   "outputs": [],
   "source": [
    "adder(1, 2, 3, 4, 5)"
   ]
  },
  {
   "cell_type": "code",
   "execution_count": null,
   "metadata": {
    "collapsed": true
   },
   "outputs": [],
   "source": [
    "# Invalid Syntax\n",
    "def adder(*args, x, y):\n",
    "    print x, y, arg"
   ]
  },
  {
   "cell_type": "code",
   "execution_count": 3,
   "metadata": {
    "collapsed": true
   },
   "outputs": [],
   "source": [
    "#pass by reference\n",
    "x = range(5)\n",
    "\n",
    "def modify(y):\n",
    "    y[0] = 1000\n",
    "    x = ['abc']\n",
    "    print \"x\", x\n",
    "\n",
    "print x\n",
    "modify(x)\n",
    "print x\n"
   ]
  },
  {
   "cell_type": "code",
   "execution_count": null,
   "metadata": {
    "collapsed": true
   },
   "outputs": [],
   "source": [
    "#Default arguments\n",
    "def adder(x=10, y=20):\n",
    "    return(x+y)\n",
    "\n",
    "print adder(1,3)\n",
    "print adder()\n",
    "print adder(1)\n",
    "\n",
    "print adder(y=1)"
   ]
  },
  {
   "cell_type": "code",
   "execution_count": null,
   "metadata": {
    "collapsed": true
   },
   "outputs": [],
   "source": [
    "# It is allowed to change the order of named arguments\n",
    "def divide(x=1, y=1):\n",
    "    return x/y\n",
    "\n",
    "divide(y=10, x=100)"
   ]
  },
  {
   "cell_type": "code",
   "execution_count": null,
   "metadata": {
    "collapsed": true
   },
   "outputs": [],
   "source": [
    "# variable number of keyword arguments\n",
    "def get_student_info(name=None, age=None, **kwargs):\n",
    "    print name, age, kwargs\n",
    "    \n",
    "get_student_info('Bob', 20)\n",
    "get_student_info('Alice', 25, country='India', state='KA')"
   ]
  },
  {
   "cell_type": "code",
   "execution_count": null,
   "metadata": {
    "collapsed": true
   },
   "outputs": [],
   "source": [
    "#another example\n",
    "dict1 = {'name':'Alice', 'age':20}\n",
    "print dict1\n",
    "dict2 = dict(name='Alice', age=20)\n",
    "print dict2"
   ]
  },
  {
   "cell_type": "markdown",
   "metadata": {},
   "source": [
    "__Python scoping w.r.t. functions__\n",
    "\n",
    "* scope is categorized as global and local\n",
    "* 'nonlocal' added in python "
   ]
  },
  {
   "cell_type": "code",
   "execution_count": null,
   "metadata": {
    "collapsed": true
   },
   "outputs": [],
   "source": [
    "#python scope: example 1\n",
    "name = 'Alice'\n",
    "def student1():\n",
    "    print 'within the function, name is: ', name\n",
    "    \n",
    "print \"outside the function, name is: \", name \n",
    "student1()\n",
    "print \"outside the function, name now is: \", name"
   ]
  },
  {
   "cell_type": "code",
   "execution_count": null,
   "metadata": {
    "collapsed": true
   },
   "outputs": [],
   "source": [
    "#python scope: example 2\n",
    "\n",
    "name = 'Alice'\n",
    "\n",
    "def student2():\n",
    "    name = 'bob'\n",
    "    print 'within the function, name is: ', name\n",
    "    \n",
    "student2()\n",
    "print \"outside the function, name now is: \", name\n",
    "    "
   ]
  },
  {
   "cell_type": "code",
   "execution_count": null,
   "metadata": {
    "collapsed": true
   },
   "outputs": [],
   "source": [
    "#python scope: example 3\n",
    "def student2():\n",
    "    global name\n",
    "    name = 'bob'\n",
    "    print 'within the function, name is: ', name\n",
    "    \n",
    "student2()\n",
    "print \"outside the function, name now is: \", name\n"
   ]
  },
  {
   "cell_type": "markdown",
   "metadata": {
    "collapsed": true
   },
   "source": [
    "Recursion and Nesting of functions"
   ]
  },
  {
   "cell_type": "code",
   "execution_count": 2,
   "metadata": {
    "collapsed": true
   },
   "outputs": [],
   "source": [
    "def fib(n):\n",
    "    if n in (0, 1):\n",
    "        return 1\n",
    "    else:\n",
    "        return fib(n-1) + fib(n-2)\n",
    "    "
   ]
  },
  {
   "cell_type": "code",
   "execution_count": null,
   "metadata": {
    "collapsed": true
   },
   "outputs": [],
   "source": []
  }
 ],
 "metadata": {
  "kernelspec": {
   "display_name": "Python 2",
   "language": "python",
   "name": "python2"
  },
  "language_info": {
   "codemirror_mode": {
    "name": "ipython",
    "version": 2
   },
   "file_extension": ".py",
   "mimetype": "text/x-python",
   "name": "python",
   "nbconvert_exporter": "python",
   "pygments_lexer": "ipython2",
   "version": "2.7.6"
  }
 },
 "nbformat": 4,
 "nbformat_minor": 0
}
