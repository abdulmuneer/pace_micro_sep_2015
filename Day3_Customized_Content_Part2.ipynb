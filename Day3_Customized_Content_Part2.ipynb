{
 "cells": [
  {
   "cell_type": "markdown",
   "metadata": {},
   "source": [
    "Session 1:\n",
    "\n",
    "- Asynchronous Programming \n",
    "\n",
    "- Threads and Processes\n",
    "- multiprocessing\n",
    "\n",
    "- Subprocess \n",
    "- calling external programs and capturing output.\n",
    "\n",
    "Session 2:\n",
    "\n",
    "- Setting up a python REST API\n",
    "\n",
    "Session 3:\n",
    "\n",
    "- Setting up a minimal OCR system\n",
    "\n",
    "Session 4:\n",
    "\n",
    "- Image comparison examples\n",
    "- Audio Detection\n",
    "- IR Controller\n"
   ]
  }
 ],
 "metadata": {
  "kernelspec": {
   "display_name": "Python 2",
   "language": "python",
   "name": "python2"
  },
  "language_info": {
   "codemirror_mode": {
    "name": "ipython",
    "version": 2
   },
   "file_extension": ".py",
   "mimetype": "text/x-python",
   "name": "python",
   "nbconvert_exporter": "python",
   "pygments_lexer": "ipython2",
   "version": "2.7.10"
  }
 },
 "nbformat": 4,
 "nbformat_minor": 0
}
