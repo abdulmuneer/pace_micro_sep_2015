{
 "cells": [
  {
   "cell_type": "markdown",
   "metadata": {},
   "source": [
    "https://xkcd.com/353/\n",
    "<img src=python_xkcd.png>"
   ]
  },
  {
   "cell_type": "markdown",
   "metadata": {},
   "source": [
    "Session 1:\n",
    "\n",
    "- Asynchronous Programming \n",
    "\n",
    "- Threads and Processes\n",
    "- multiprocessing\n",
    "\n",
    "- Subprocess \n",
    "- calling external programs and capturing output.\n",
    "\n",
    "Session 2:\n",
    "\n",
    "- Setting up a python REST API\n",
    "- Setting up a minimal OCR system\n",
    "\n",
    "Session 3:\n",
    "\n",
    "- Socket Programming\n",
    "- Extending Python\n",
    "\n",
    "\n",
    "Session 4:\n",
    "\n",
    "- Image comparison examples\n",
    "- Audio Detection\n",
    "- Additional Material - Decorators, Generators\n"
   ]
  }
 ],
 "metadata": {
  "kernelspec": {
   "display_name": "Python 2",
   "language": "python",
   "name": "python2"
  },
  "language_info": {
   "codemirror_mode": {
    "name": "ipython",
    "version": 2
   },
   "file_extension": ".py",
   "mimetype": "text/x-python",
   "name": "python",
   "nbconvert_exporter": "python",
   "pygments_lexer": "ipython2",
   "version": "2.7.6"
  }
 },
 "nbformat": 4,
 "nbformat_minor": 0
}
