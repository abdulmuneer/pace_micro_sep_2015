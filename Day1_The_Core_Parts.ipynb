{
 "cells": [
  {
   "cell_type": "markdown",
   "metadata": {},
   "source": [
    "Session 1:\n",
    "\n",
    "-  Introduction, Use cases of python\n",
    "-  Python interpretor, console.\n",
    "-  Basic Data Structures \n",
    "-  Variables, Dynamic typing\n",
    "-  Basic Programming constructs: \n",
    "    -  Conditions : If, else, elif\n",
    "    -  Loops: while, break, continue, for\n",
    "-  Interactive mode, file mode, dir, help, type\n",
    "-  Advanced Data Structures: Containers  list, tuple, dictionary, set\n",
    "-  Functions:\n",
    "    -  Syntax\n",
    "    -  Invocation\n",
    "    -  Parameter passing, Parameter passing with names\n",
    "    -  Idea of pass by object\n",
    "    -  Recursion and Nesting of functions\n",
    "\n",
    "Session2:\n",
    "\n",
    "-  Object Oriented Concepts:\n",
    "-  Python objects\n",
    "-  Classes\n",
    "    -  creation of object\n",
    "    -  inheritance\n",
    "    -  class attributes\n",
    "-  Modules\n",
    "    -  concept\n",
    "    - .py and .pyc files\n",
    "-  identity, introspection\n",
    "-  String Processing\n",
    "\n",
    "Session 3:\n",
    "\n",
    "- Exception Handling:\n",
    "    - Significance\n",
    "    - Common exceptions\n",
    "    - Usage - try, except, raise, else, finally\n",
    "- File handling:\n",
    "    - Open, read, write, delete files\n",
    "- List Comprehensions, Dictionary Comprehensions \n",
    "\n",
    "Session 4:\n",
    "\n",
    "- Functional Programming Concepts: Map, Filter, Reduce.\n",
    "- Shell utilities\n",
    "- os module\n",
    "- Higher order Functions, Decorators\n",
    "\n"
   ]
  },
  {
   "cell_type": "code",
   "execution_count": null,
   "metadata": {
    "collapsed": true
   },
   "outputs": [],
   "source": []
  }
 ],
 "metadata": {
  "kernelspec": {
   "display_name": "Python 2",
   "language": "python",
   "name": "python2"
  },
  "language_info": {
   "codemirror_mode": {
    "name": "ipython",
    "version": 2
   },
   "file_extension": ".py",
   "mimetype": "text/x-python",
   "name": "python",
   "nbconvert_exporter": "python",
   "pygments_lexer": "ipython2",
   "version": "2.7.6"
  }
 },
 "nbformat": 4,
 "nbformat_minor": 0
}
