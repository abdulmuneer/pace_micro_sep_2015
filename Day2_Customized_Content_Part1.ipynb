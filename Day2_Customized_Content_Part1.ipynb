{
 "cells": [
  {
   "cell_type": "markdown",
   "metadata": {},
   "source": [
    "Session 1:\n",
    "\n",
    "-  Python package\n",
    "-  3rd party libraries, pip, easy\\_install\n",
    "-  Using Debugger : pdb, stack trace.\n",
    "-  Logging\n",
    "    -  Introduction\n",
    "    -  Configuration\n",
    "\n",
    "Session 2:\n",
    "\n",
    "-  Regular Expressions\n",
    "-  Testing: unittest, doctest, pytest, mock\n",
    "\n",
    "Session 3 - Parsing:\n",
    "-  ConfigParser\n",
    "-  HTML Parser\n",
    "-  XML Parser\n",
    "-  JSON Parser\n",
    "\n",
    "Session 4 - Networking:\n",
    "-  SSH\n",
    "-  TELNET\n",
    "-  HTTP\n",
    "-  SERIAL PORT"
   ]
  },
  {
   "cell_type": "code",
   "execution_count": null,
   "metadata": {
    "collapsed": true
   },
   "outputs": [],
   "source": []
  }
 ],
 "metadata": {
  "kernelspec": {
   "display_name": "Python 2",
   "language": "python",
   "name": "python2"
  },
  "language_info": {
   "codemirror_mode": {
    "name": "ipython",
    "version": 2
   },
   "file_extension": ".py",
   "mimetype": "text/x-python",
   "name": "python",
   "nbconvert_exporter": "python",
   "pygments_lexer": "ipython2",
   "version": "2.7.10"
  }
 },
 "nbformat": 4,
 "nbformat_minor": 0
}
