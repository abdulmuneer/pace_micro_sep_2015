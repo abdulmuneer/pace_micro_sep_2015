{
 "cells": [
  {
   "cell_type": "markdown",
   "metadata": {},
   "source": [
    "###Decorators\n",
    "* Decorators dynamically alter the functionality of a function\n",
    "* They can also alter a method or class without having to directly use subclasses.\n",
    "* This is ideal when you need to extend the functionality of functions that you don't want to modify.\n",
    "\n",
    "* Essentially, decorators work as wrappers\n",
    "  * modifying the behavior of the code before and after a target function execution\n",
    "  * without the need to modify the function itself, augmenting the original functionality\n",
    "  * Hence the name `decorator`.\n"
   ]
  },
  {
   "cell_type": "markdown",
   "metadata": {},
   "source": [
    " In Python, functions are first class citizens, they are objects and that means we can do a lot of useful stuff with them.\n",
    " \n",
    "__ Assign functions to variables__\n"
   ]
  },
  {
   "cell_type": "code",
   "execution_count": 2,
   "metadata": {
    "collapsed": false
   },
   "outputs": [
    {
     "name": "stdout",
     "output_type": "stream",
     "text": [
      "('Hi ', 'Alice')\n",
      "[0, 1, 2, 3, 4, 5, 6, 7, 8, 9]\n"
     ]
    }
   ],
   "source": [
    "def greet(name):\n",
    "    return \"Hi \", name\n",
    "\n",
    "say_hi = greet\n",
    "print say_hi(\"Alice\")\n",
    "numbers = range\n",
    "print numbers(10)"
   ]
  },
  {
   "cell_type": "markdown",
   "metadata": {},
   "source": [
    "__Define functions inside other functions__"
   ]
  },
  {
   "cell_type": "code",
   "execution_count": 3,
   "metadata": {
    "collapsed": false
   },
   "outputs": [
    {
     "name": "stdout",
     "output_type": "stream",
     "text": [
      "Hello John\n"
     ]
    }
   ],
   "source": [
    "def greet(name):\n",
    "    def get_message():\n",
    "        return \"Hello \"\n",
    "\n",
    "    result = get_message()+name\n",
    "    return result\n",
    "\n",
    "print greet(\"John\")\n",
    "\n",
    "# Outputs: Hello John"
   ]
  },
  {
   "cell_type": "markdown",
   "metadata": {},
   "source": [
    "__Functions can be passed as parameters to other functions__"
   ]
  },
  {
   "cell_type": "code",
   "execution_count": 4,
   "metadata": {
    "collapsed": false
   },
   "outputs": [
    {
     "name": "stdout",
     "output_type": "stream",
     "text": [
      "Hello John\n"
     ]
    }
   ],
   "source": [
    "def greet(name):\n",
    "   return \"Hello \" + name \n",
    "\n",
    "def call_func(func):\n",
    "    other_name = \"John\"\n",
    "    return func(other_name)  \n",
    "\n",
    "print call_func(greet)\n",
    "\n",
    "# Outputs: Hello John"
   ]
  },
  {
   "cell_type": "markdown",
   "metadata": {},
   "source": [
    "__Functions can return other functions__\n",
    "\n",
    "In other words, functions *generating* other functions."
   ]
  },
  {
   "cell_type": "code",
   "execution_count": 5,
   "metadata": {
    "collapsed": false
   },
   "outputs": [
    {
     "name": "stdout",
     "output_type": "stream",
     "text": [
      "Hello there!\n"
     ]
    }
   ],
   "source": [
    "def compose_greet_func():\n",
    "    def get_message():\n",
    "        return \"Hello there!\"\n",
    "\n",
    "    return get_message\n",
    "\n",
    "greet = compose_greet_func()\n",
    "print greet()\n",
    "\n",
    "# Outputs: Hello there!"
   ]
  },
  {
   "cell_type": "markdown",
   "metadata": {},
   "source": [
    "__Inner functions have access to the enclosing scope__\n",
    "\n",
    "* More commonly known as a closure. \n",
    "* A very powerful pattern that we will come across while building decorators. \n",
    "\n",
    "Another thing to note, Python only allows read access to the outer scope and not assignment.\n",
    "\n",
    "\n",
    "Notice how we modify the example above to read a \"name\" argument from the enclosing scope of the inner function and return the new function.\n",
    "\n",
    "```python\n",
    "def compose_greet_func(name):\n",
    "    def get_message():\n",
    "        return \"Hello there \"+name+\"!\"\n",
    "\n",
    "    return get_message\n",
    "\n",
    "greet = compose_greet_func(\"John\")\n",
    "print greet()\n",
    "\n",
    "# Outputs: Hello there John!\n",
    "```\n"
   ]
  },
  {
   "cell_type": "code",
   "execution_count": 6,
   "metadata": {
    "collapsed": false
   },
   "outputs": [
    {
     "name": "stdout",
     "output_type": "stream",
     "text": [
      "Hello there John!\n"
     ]
    }
   ],
   "source": [
    "def compose_greet_func(name):\n",
    "    def get_message():\n",
    "        return \"Hello there \"+name+\"!\"\n",
    "\n",
    "    return get_message\n",
    "\n",
    "greet = compose_greet_func(\"John\")\n",
    "print greet()"
   ]
  },
  {
   "cell_type": "markdown",
   "metadata": {},
   "source": [
    "__Composition of Decorators__\n",
    "\n",
    "* Function decorators are simply wrappers to existing functions. "
   ]
  },
  {
   "cell_type": "code",
   "execution_count": 7,
   "metadata": {
    "collapsed": false
   },
   "outputs": [
    {
     "name": "stdout",
     "output_type": "stream",
     "text": [
      "<p>Hello, John </p>\n"
     ]
    }
   ],
   "source": [
    "#Putting the ideas mentioned above together, we can build a decorator. \n",
    "#In this example let's consider a function \n",
    "#   ..that wraps the string output of another function by p tags.\n",
    "\n",
    "def get_text(name):\n",
    "   return \"Hello, {0} \".format(name)\n",
    "\n",
    "\n",
    "\n",
    "\n",
    "\n",
    "\n",
    "\n",
    "\n",
    "\n",
    "\n",
    "def p_decorate(func):\n",
    "   def func_wrapper(name):\n",
    "       return \"<p>\" + func(name) + \"</p>\"\n",
    "   return func_wrapper\n",
    "\n",
    "my_get_text = p_decorate(get_text)\n",
    "\n",
    "print my_get_text(\"John\")\n",
    "\n",
    "# <p>Hello, John</p>"
   ]
  },
  {
   "cell_type": "markdown",
   "metadata": {},
   "source": [
    "__That was our first decorator!!__\n",
    "\n",
    "* A function that takes another function as an argument\n",
    "* generates a new function, augmenting the work of the original function\n",
    "* .. and returning the generated function so we can use it anywhere."
   ]
  },
  {
   "cell_type": "markdown",
   "metadata": {},
   "source": [
    "*To have get_text itself be decorated by p_decorate, we just have to assign get_text to the result of p_decorate!!!*"
   ]
  },
  {
   "cell_type": "code",
   "execution_count": 5,
   "metadata": {
    "collapsed": false
   },
   "outputs": [],
   "source": [
    "get_text = p_decorate(get_text)\n",
    "\n",
    "print get_text(\"John\")\n"
   ]
  },
  {
   "cell_type": "markdown",
   "metadata": {},
   "source": [
    "#Python's Decorator Syntax"
   ]
  },
  {
   "cell_type": "markdown",
   "metadata": {},
   "source": [
    "Python makes creating and using decorators a bit cleaner and nicer for the programmer through some syntactic sugar.\n",
    "\n",
    "* To decorate get_text we don't have to \n",
    "```python\n",
    "get_text = p_decorator(get_text)\n",
    "```\n",
    "\n",
    "* There is a neat shortcut for that.."
   ]
  },
  {
   "cell_type": "code",
   "execution_count": 8,
   "metadata": {
    "collapsed": false
   },
   "outputs": [
    {
     "name": "stdout",
     "output_type": "stream",
     "text": [
      "<p>Hello John</p>\n"
     ]
    }
   ],
   "source": [
    "def p_decorate(func):\n",
    "   def func_wrapper(name):\n",
    "       return \"<p>\" +func(name) + \"</p>\"\n",
    "   return func_wrapper\n",
    "\n",
    "@p_decorate\n",
    "def get_text(name):\n",
    "   return \"Hello \" + name\n",
    "\n",
    "print get_text(\"John\")"
   ]
  },
  {
   "cell_type": "markdown",
   "metadata": {},
   "source": [
    "##Now let's do it again!!\n",
    "### decorate our get_text function by 2 other functions to wrap a div and strong tag "
   ]
  },
  {
   "cell_type": "code",
   "execution_count": 10,
   "metadata": {
    "collapsed": false
   },
   "outputs": [],
   "source": [
    "\n",
    "def p_decorate(func):\n",
    "   def func_wrapper(name):\n",
    "       return \"<p>\"+func(name)+\"</p>\"\n",
    "   return func_wrapper\n",
    "\n",
    "def strong_decorate(func):\n",
    "    def func_wrapper(name):\n",
    "        return \"<strong>\"+func(name)+\"</strong>\"\n",
    "    return func_wrapper\n",
    "\n",
    "def div_decorate(func):\n",
    "    def func_wrapper(name):\n",
    "        return \"<div>\"+func(name)+\"</div>\"\n",
    "    return func_wrapper\n"
   ]
  },
  {
   "cell_type": "markdown",
   "metadata": {},
   "source": [
    "```python\n",
    "get_text = div_decorate(p_decorate(strong_decorate(get_text)))\n",
    "```"
   ]
  },
  {
   "cell_type": "code",
   "execution_count": 12,
   "metadata": {
    "collapsed": false
   },
   "outputs": [
    {
     "name": "stdout",
     "output_type": "stream",
     "text": [
      "<div><strong>Hello, John</strong></div>\n"
     ]
    }
   ],
   "source": [
    "@div_decorate\n",
    "#@p_decorate\n",
    "@strong_decorate\n",
    "def get_text(name):\n",
    "   return \"Hello, {0}\".format(name)\n",
    "\n",
    "print get_text(\"John\")"
   ]
  },
  {
   "cell_type": "markdown",
   "metadata": {},
   "source": [
    "###Decorating Methods\n",
    "* methods expect their first parameter to be a reference to the current object. \n",
    "* We can build decorators while taking self into consideration in the wrapper function."
   ]
  },
  {
   "cell_type": "code",
   "execution_count": 10,
   "metadata": {
    "collapsed": false
   },
   "outputs": [],
   "source": [
    "def p_decorate(func):\n",
    "   def func_wrapper(self):\n",
    "       return \"<p>{0}</p>\".format(func(self))\n",
    "   return func_wrapper\n",
    "\n",
    "class Person(object):\n",
    "    def __init__(self):\n",
    "        self.name = \"John\"\n",
    "        self.family = \"Doe\"\n",
    "\n",
    "    @p_decorate\n",
    "    def get_fullname(self):\n",
    "        return self.name+\" \"+self.family\n",
    "\n",
    "my_person = Person()\n",
    "#print my_person.get_fullname()"
   ]
  },
  {
   "cell_type": "markdown",
   "metadata": {},
   "source": [
    "__Let usmake our decorator useful for functions and methods alike..__\n",
    "\n",
    "* Let us give *args and **kwargs as parameters for the wrapper"
   ]
  },
  {
   "cell_type": "code",
   "execution_count": null,
   "metadata": {
    "collapsed": false
   },
   "outputs": [],
   "source": [
    "def p_decorate(func):\n",
    "   def func_wrapper(*args, **kwargs):\n",
    "       return \"<p>{0}</p>\".format(func(*args, **kwargs))\n",
    "   return func_wrapper\n",
    "\n",
    "class Person(object):\n",
    "    def __init__(self):\n",
    "        self.name = \"John\"\n",
    "        self.family = \"Doe\"\n",
    "\n",
    "    @p_decorate\n",
    "    def get_fullname(self):\n",
    "        return self.name+\" \"+self.family\n",
    "\n",
    "my_person = Person()\n",
    "\n",
    "print my_person.get_fullname()"
   ]
  },
  {
   "cell_type": "markdown",
   "metadata": {},
   "source": [
    "# Passing arguments to decorators\n",
    "\n",
    "* 3 decorators(div_decorate, p_decorate, strong_decorate) \n",
    "* each with the same functionality but wrapping the string with different tags.\n",
    "* Let us have a general implementation for one that takes the tag to wrap with as a string.."
   ]
  },
  {
   "cell_type": "code",
   "execution_count": 14,
   "metadata": {
    "collapsed": false
   },
   "outputs": [
    {
     "name": "stdout",
     "output_type": "stream",
     "text": [
      "<strong><p>Hello John</p></strong>\n"
     ]
    }
   ],
   "source": [
    "def tags(tag_name):\n",
    "    def tags_decorator(func):\n",
    "        def func_wrapper(name):\n",
    "            return \"<{0}>{1}</{0}>\".format(tag_name, func(name))\n",
    "        return func_wrapper\n",
    "    return tags_decorator\n",
    "\n",
    "@tags(\"strong\")\n",
    "@tags(\"p\")\n",
    "def get_text(name):\n",
    "    return \"Hello \"+name\n",
    "\n",
    "print get_text(\"John\")\n",
    "\n",
    "# Outputs <p>Hello John</p>"
   ]
  },
  {
   "cell_type": "markdown",
   "metadata": {},
   "source": [
    "####Debugging decorated functions\n",
    "\n",
    "* At the end of the day decorators are just wrapping our functions..\n",
    "* in case of debugging that can be problematic: \n",
    "  * the wrapper function does not carry the name, module and docstring of the original function. * Based on the example above if we do:\n",
    "\n",
    "```python\n",
    "print get_text.__name__\n",
    "# Outputs func_wrapper\n",
    "```\n",
    "\n",
    "* The output was expected to be `get_text` \n",
    "* But the attributes __name__, __doc__, and __module__ of get_text got overridden\n",
    "* We can re-set them within func_wrapper manually\n",
    "* but Python provides a much nicer way.\n",
    "\n",
    "####Functools to the rescue\n",
    "\n",
    "* Python includes the ```functools``` module which contains ```functools.wraps```. \n",
    "* Wraps is a decorator for updating the attributes of the wrapping function(func_wrapper) to those of the original function(get_text). \n",
    "* This is as simple as decorating func_wrapper by @wraps(func). "
   ]
  },
  {
   "cell_type": "code",
   "execution_count": null,
   "metadata": {
    "collapsed": false
   },
   "outputs": [],
   "source": [
    "\n",
    "from functools import wraps\n",
    "\n",
    "def tags(tag_name):\n",
    "    def tags_decorator(func):\n",
    "        @wraps(func)\n",
    "        def func_wrapper(name):\n",
    "            return \"<{0}>{1}</{0}>\".format(tag_name, func(name))\n",
    "        return func_wrapper\n",
    "    return tags_decorator\n",
    "\n",
    "@tags(\"p\")\n",
    "def get_text(name):\n",
    "    \"\"\"returns some text\"\"\"\n",
    "    return \"Hello \"+name\n",
    "\n",
    "print get_text.__name__ # get_text\n",
    "print get_text.__doc__ # returns some text\n",
    "print get_text.__module__ # __main__"
   ]
  }
 ],
 "metadata": {
  "kernelspec": {
   "display_name": "Python 2",
   "language": "python",
   "name": "python2"
  },
  "language_info": {
   "codemirror_mode": {
    "name": "ipython",
    "version": 2
   },
   "file_extension": ".py",
   "mimetype": "text/x-python",
   "name": "python",
   "nbconvert_exporter": "python",
   "pygments_lexer": "ipython2",
   "version": "2.7.10"
  }
 },
 "nbformat": 4,
 "nbformat_minor": 0
}
