{
 "cells": [
  {
   "cell_type": "markdown",
   "metadata": {},
   "source": [
    "##Regular Expressions\n",
    "\n",
    "* Regular expressions are text matching patterns described with a formal syntax. \n",
    "* The patterns are interpreted as a set of instructions, which are then executed with a string as input to produce a matching subset or modified version of the original.\n",
    "\n",
    "###Finding Patterns in Text\n"
   ]
  },
  {
   "cell_type": "code",
   "execution_count": null,
   "metadata": {
    "collapsed": true
   },
   "outputs": [],
   "source": [
    "import re\n",
    "\n",
    "patterns = [ 'this', 'that' ]\n",
    "text = 'Does this text match the pattern?'\n",
    "\n",
    "for pattern in patterns:\n",
    "    print 'Looking for \"%s\" in \"%s\" ->' % (pattern, text),\n",
    "\n",
    "    if re.search(pattern,  text):\n",
    "        print 'found a match!'\n",
    "    else:\n",
    "        print 'no match'"
   ]
  },
  {
   "cell_type": "markdown",
   "metadata": {},
   "source": [
    "* __search()__ takes the __pattern__ and text to scan, and returns a __Match__ object when the pattern is found. If the pattern is not found, __search()__ returns __None__.\n",
    "\n",
    "* The __Match__ object returned by __search()__ holds information about the nature of the match including\n",
    " * the original input string\n",
    " * the regular expression used\n",
    " * the location within the original string where the pattern occurs.\n",
    " \n",
    " "
   ]
  },
  {
   "cell_type": "code",
   "execution_count": null,
   "metadata": {
    "collapsed": true
   },
   "outputs": [],
   "source": [
    "import re\n",
    "\n",
    "pattern = 'this'\n",
    "text = 'Does this text match the pattern?'\n",
    "\n",
    "match = re.search(pattern, text)\n",
    "\n",
    "s = match.start()\n",
    "e = match.end()\n",
    "\n",
    "print 'Found \"%s\" in \"%s\" from %d to %d (\"%s\")' %(\n",
    "        match.re.pattern, match.string, s, e, text[s:e])"
   ]
  },
  {
   "cell_type": "markdown",
   "metadata": {},
   "source": [
    "####Compiling Expressions\n",
    "\n",
    "* The __compile()__ function converts an expression string into a RegexObject.\n"
   ]
  },
  {
   "cell_type": "code",
   "execution_count": null,
   "metadata": {
    "collapsed": true
   },
   "outputs": [],
   "source": [
    "import re\n",
    "# Pre-compile the patterns\n",
    "regexes = [ re.compile(p) for p in [ 'this','that',] ]\n",
    "\n",
    "text = 'Does this text match the pattern?'\n",
    "\n",
    "for regex in regexes:\n",
    "    print 'Looking for \"%s\" in \"%s\" ->' % (regex.pattern, text),\n",
    "    if regex.search(text):\n",
    "        print 'found a match!'\n",
    "    else:\n",
    "        print 'no match\n",
    "\n"
   ]
  },
  {
   "cell_type": "markdown",
   "metadata": {},
   "source": [
    "####Multiple Matches\n",
    "\n",
    "* __search()__ looks for single instances of literal text strings. \n",
    "* The findall() function returns all of the substrings of the input that match the pattern without overlapping.\n"
   ]
  },
  {
   "cell_type": "code",
   "execution_count": null,
   "metadata": {
    "collapsed": true
   },
   "outputs": [],
   "source": [
    "import re\n",
    "\n",
    "text = 'abbaaabbbbaaaaab'\n",
    "\n",
    "pattern = 'ab'\n",
    "\n",
    "for match in re.findall(pattern, text):\n",
    "    print 'Found \"%s\"' % match"
   ]
  },
  {
   "cell_type": "markdown",
   "metadata": {},
   "source": [
    "* __finditer()__ returns an iterator that produces Match instances instead of the strings returned by __findall()__."
   ]
  },
  {
   "cell_type": "code",
   "execution_count": null,
   "metadata": {
    "collapsed": true
   },
   "outputs": [],
   "source": [
    "import re\n",
    "\n",
    "text = 'abbaaabbbbaaaaab'\n",
    "\n",
    "pattern = 'ab'\n",
    "\n",
    "for match in re.finditer(pattern, text):\n",
    "    s = match.start()\n",
    "    e = match.end()\n",
    "    print 'Found \"%s\" at %d:%d' % (text[s:e], s, e)"
   ]
  },
  {
   "cell_type": "markdown",
   "metadata": {},
   "source": [
    "####Pattern Syntax\n",
    "* Regular expressions support more powerful patterns than simple literal text strings. \n",
    "* Patterns can:\n",
    " * repeat\n",
    " * be anchored to different logical locations within the input\n",
    " * be expressed in compact forms that don’t require every literal character be present in the pattern. \n",
    "* All of these features are used by combining literal text values with metacharacters that are part of the regular expression pattern syntax implemented by `re`"
   ]
  },
  {
   "cell_type": "code",
   "execution_count": null,
   "metadata": {
    "collapsed": true
   },
   "outputs": [],
   "source": [
    "import re\n",
    "\n",
    "def test_patterns(text, patterns=[]):\n",
    "    \"\"\"Given source text and a list of patterns, look for\n",
    "    matches for each pattern within the text and print\n",
    "    them to stdout.\n",
    "    \"\"\"\n",
    "    # Show the character positions and input text\n",
    "    print\n",
    "    print ''.join(str(i/10 or ' ') for i in range(len(text)))\n",
    "    print ''.join(str(i%10) for i in range(len(text)))\n",
    "    print text\n",
    "\n",
    "    # Look for each pattern in the text and print the results\n",
    "    for pattern in patterns:\n",
    "        print\n",
    "        print 'Matching \"%s\"' % pattern\n",
    "        for match in re.finditer(pattern, text):\n",
    "            s = match.start()\n",
    "            e = match.end()\n",
    "            print '  %2d : %2d = \"%s\"' % \\\n",
    "                (s, e-1, text[s:e])\n",
    "    return\n",
    "\n",
    "if __name__ == '__main__':\n",
    "    test_patterns('abbaaabbbbaaaaa', ['ab'])\n"
   ]
  },
  {
   "cell_type": "markdown",
   "metadata": {},
   "source": [
    "#####Repetition"
   ]
  },
  {
   "cell_type": "code",
   "execution_count": null,
   "metadata": {
    "collapsed": true
   },
   "outputs": [],
   "source": [
    "test_patterns('abbaaabbbbaaaaa',\n",
    "              [ 'ab*',     # a followed by zero or more b\n",
    "                'ab+',     # a followed by one or more b\n",
    "                'ab?',     # a followed by zero or one b\n",
    "                'ab{3}',   # a followed by three b\n",
    "                'ab{2,3}', # a followed by two to three b\n",
    "                ])"
   ]
  },
  {
   "cell_type": "markdown",
   "metadata": {},
   "source": [
    "* The normal processing for a repetition instruction is to consume as much of the input as possible while matching the pattern. \n",
    "* This so-called greedy behavior may result in:\n",
    " * fewer individual matches, or \n",
    " * the matches may include more of the input text than intended. \n",
    "* Greediness can be turned off by following the repetition instruction with __?__."
   ]
  },
  {
   "cell_type": "code",
   "execution_count": null,
   "metadata": {
    "collapsed": true
   },
   "outputs": [],
   "source": [
    "test_patterns('abbaaabbbbaaaaa',\n",
    "              [ 'ab*?',     # a followed by zero or more b\n",
    "                'ab+?',     # a followed by one or more b\n",
    "                'ab??',     # a followed by zero or one b\n",
    "                'ab{3}?',   # a followed by three b\n",
    "                'ab{2,3}?', # a followed by two to three b\n",
    "                ])"
   ]
  },
  {
   "cell_type": "markdown",
   "metadata": {},
   "source": [
    "Character Sets\n",
    "\n",
    "    A character set is a group of characters, any one of which can match at that point in the pattern.\n",
    "    For example, [ab] would match either a or b.\n",
    "\n"
   ]
  },
  {
   "cell_type": "code",
   "execution_count": null,
   "metadata": {
    "collapsed": true
   },
   "outputs": [],
   "source": [
    "#from re_test_patterns import test_patterns\n",
    "\n",
    "test_patterns('abbaaabbbbaaaaa',\n",
    "              [ '[ab]',    # either a or b\n",
    "                'a[ab]+',  # a followed by one or more a or b\n",
    "                'a[ab]+?', # a followed by one or more a or b, not greedy\n",
    "                ])"
   ]
  },
  {
   "cell_type": "markdown",
   "metadata": {},
   "source": [
    "* A character set can also be used to exclude specific characters. \n",
    "* The special marker ^ means to look for characters not in the set following."
   ]
  },
  {
   "cell_type": "code",
   "execution_count": null,
   "metadata": {
    "collapsed": true
   },
   "outputs": [],
   "source": [
    "test_patterns('This is some text -- with punctuation.',\n",
    "              [ '[^-. ]+',  # sequences without -, ., or space\n",
    "                ])"
   ]
  },
  {
   "cell_type": "markdown",
   "metadata": {},
   "source": [
    "As character sets grow larger, typing every character that should (or should not) match becomes tedious. A more compact format using character ranges lets you define a character set to include all of the contiguous characters between a start and stop point."
   ]
  },
  {
   "cell_type": "code",
   "execution_count": null,
   "metadata": {
    "collapsed": true
   },
   "outputs": [],
   "source": [
    "test_patterns('This is some text -- with punctuation.',\n",
    "              [ '[a-z]+',      # sequences of lower case letters\n",
    "                '[A-Z]+',      # sequences of upper case letters\n",
    "                '[a-zA-Z]+',   # sequences of lower or upper case letters\n",
    "                '[A-Z][a-z]+', # one upper case letter followed by lower case letters\n",
    "                ])\n"
   ]
  },
  {
   "cell_type": "markdown",
   "metadata": {},
   "source": [
    "* The metacharacter __dot__, or __period__ (__.__), indicates that the pattern should match any single character in that position."
   ]
  },
  {
   "cell_type": "code",
   "execution_count": null,
   "metadata": {
    "collapsed": true
   },
   "outputs": [],
   "source": [
    "test_patterns('abbaaabbbbaaaaa',\n",
    "              [ 'a.',   # a followed by any one character\n",
    "                'b.',   # b followed by any one character\n",
    "                'a.*b', # a followed by anything, ending in b\n",
    "                'a.*?b', # a followed by anything, ending in b\n",
    "                ])"
   ]
  },
  {
   "cell_type": "markdown",
   "metadata": {},
   "source": [
    "#####Escape Codes\n",
    "\n",
    "An even more compact representation uses escape codes for several pre-defined character sets. The escape codes recognized by re are:\n",
    "\n",
    "* __Code  ->\tMeaning__\n",
    "* \\d \ta digit\n",
    "* \\D \ta non-digit\n",
    "* \\s \twhitespace (tab, space, newline, etc.)\n",
    "* \\S \tnon-whitespace \n",
    "\n",
    "* \\w   alphanumeric \n",
    "* \\W \t non-alphanumeric \n",
    "\n",
    "Prefer raw strings to maintain readability (double backslash problem)"
   ]
  },
  {
   "cell_type": "code",
   "execution_count": null,
   "metadata": {
    "collapsed": true
   },
   "outputs": [],
   "source": [
    "test_patterns('This is a prime #1 example!',\n",
    "              [ r'\\d+', # sequence of digits\n",
    "                r'\\D+', # sequence of non-digits\n",
    "                r'\\s+', # sequence of whitespace\n",
    "                r'\\S+', # sequence of non-whitespace\n",
    "                r'\\w+', # alphanumeric characters\n",
    "                r'\\W+', # non-alphanumeric\n",
    "                ])"
   ]
  },
  {
   "cell_type": "markdown",
   "metadata": {},
   "source": [
    "#####Anchoring\n",
    "\n",
    "In addition to describing the content of a pattern to match, you can also specify the relative location in the input text where the pattern should appear using anchoring instructions.\n",
    "\n",
    "Code \tMeaning\n",
    "\n",
    "* ^ \tstart of string, or line\n",
    "* $ \tend of string, or line\n",
    "* \\A \tstart of string\n",
    "* \\Z \tend of string\n",
    "* \\b \tempty string at the beginning or end of a word\n",
    "* \\B \tempty string not at the beginning or end of a word"
   ]
  },
  {
   "cell_type": "code",
   "execution_count": null,
   "metadata": {
    "collapsed": true
   },
   "outputs": [],
   "source": [
    "test_patterns('This is some text -- with punctuation.',\n",
    "              [ r'^\\w+',     # word at start of string\n",
    "                r'\\A\\w+',    # word at start of string\n",
    "                r'\\w+\\S*$',  # word at end of string, with optional punctuation\n",
    "                r'\\w+\\S*\\Z', # word at end of string, with optional punctuation\n",
    "                r'\\w*t\\w*',  # word containing 't'\n",
    "                r'\\bt\\w+',   # 't' at start of word\n",
    "                r'\\w+t\\b',   # 't' at end of word\n",
    "                r'\\Bt\\B',    # 't', not start or end of word\n",
    "                ])"
   ]
  },
  {
   "cell_type": "markdown",
   "metadata": {},
   "source": [
    "###Dissecting Matches with Groups\n",
    "\n",
    "* Adding groups to a pattern lets you isolate parts of the matching text, expanding those capabilities to create a parser. \n",
    "* Groups are defined by enclosing patterns in parentheses ('__(__' and '__)__')."
   ]
  },
  {
   "cell_type": "code",
   "execution_count": null,
   "metadata": {
    "collapsed": true
   },
   "outputs": [],
   "source": [
    "test_patterns('abbaaabbbbaaaaa',\n",
    "              [ 'a(ab)',    # 'a' followed by literal 'ab'\n",
    "                'a(a*b*)',  # 'a' followed by 0-n 'a' and 0-n 'b'\n",
    "                'a(ab)*',   # 'a' followed by 0-n 'ab'\n",
    "                'a(ab)+',   # 'a' followed by 1-n 'ab'\n",
    "                ])"
   ]
  },
  {
   "cell_type": "markdown",
   "metadata": {},
   "source": [
    "To access the substrings matched by the individual groups within a pattern, use the groups() method of the Match object."
   ]
  },
  {
   "cell_type": "code",
   "execution_count": null,
   "metadata": {
    "collapsed": true
   },
   "outputs": [],
   "source": [
    "import re\n",
    "\n",
    "text = 'This is some text -- with punctuation.'\n",
    "\n",
    "print text\n",
    "print\n",
    "\n",
    "for pattern in [ r'^(\\w+)',           # word at start of string\n",
    "                 r'(\\w+)\\S*$',        # word at end of string, with optional punctuation\n",
    "                 r'(\\bt\\w+)\\W+(\\w+)', # word starting with 't' then another word\n",
    "                 r'(\\w+t)\\b',         # word ending with 't'\n",
    "                 ]:\n",
    "    regex = re.compile(pattern)\n",
    "    match = regex.search(text)\n",
    "    print 'Matching \"%s\"' % pattern\n",
    "    print '  ', match.groups()\n",
    "    print"
   ]
  },
  {
   "cell_type": "markdown",
   "metadata": {},
   "source": [
    "#####Search Options\n",
    "* You can change the way the matching engine processes an expression using option flags. \n",
    "* The flags can be combined using a bitwise or operation, and passed to __compile()__, __search()__, __match()__, and other functions that accept a pattern for searching.\n",
    "\n",
    "#####Case-insensitive Matching\n",
    "* __IGNORECASE__ causes literal characters and character ranges in the pattern to match both upper and lower case characters."
   ]
  },
  {
   "cell_type": "code",
   "execution_count": null,
   "metadata": {
    "collapsed": true
   },
   "outputs": [],
   "source": [
    "import re\n",
    "\n",
    "text = 'This is some text -- with punctuation.'\n",
    "pattern = r'\\bT\\w+'\n",
    "with_case = re.compile(pattern)\n",
    "without_case = re.compile(pattern, re.IGNORECASE)\n",
    "\n",
    "print 'Text            :', text\n",
    "print 'Pattern         :', pattern\n",
    "print 'Case-sensitive  :', with_case.findall(text)\n",
    "print 'Case-insensitive:', without_case.findall(text)"
   ]
  },
  {
   "cell_type": "markdown",
   "metadata": {},
   "source": [
    "#####Input with Multiple Lines\n",
    "* There are two flags that effect how searching in multi-line input works. \n",
    "* The MULTILINE flag controls how the pattern matching code processes anchoring instructions for text containing newline characters. \n",
    "* When multiline mode is turned on, the anchor rules for ^ and $ apply at the beginning and end of each line, in addition to the entire string.\n",
    "\n",
    "* DOTALL is the other flag related to multiline text. Normally the dot character __.__ matches everything in the input text except a newline character. The flag allows dot to match newlines as well.\n"
   ]
  },
  {
   "cell_type": "code",
   "execution_count": null,
   "metadata": {
    "collapsed": true
   },
   "outputs": [],
   "source": [
    "import re\n",
    "\n",
    "text = 'This is some text -- with punctuation.\\nAnd a second line.'\n",
    "pattern = r'(^\\w+)|(\\w+\\S*$)'\n",
    "single_line = re.compile(pattern)\n",
    "multiline = re.compile(pattern, re.MULTILINE)\n",
    "\n",
    "print 'Text        :', repr(text)\n",
    "print 'Pattern     :', pattern\n",
    "print 'Single Line :', single_line.findall(text)\n",
    "print 'Multline    :', multiline.findall(text)"
   ]
  },
  {
   "cell_type": "code",
   "execution_count": null,
   "metadata": {
    "collapsed": true
   },
   "outputs": [],
   "source": [
    "import re\n",
    "\n",
    "text = 'This is some text -- with punctuation.\\nAnd a second line.'\n",
    "pattern = r'(^\\w+)|(\\w+\\S*$)'\n",
    "single_line = re.compile(pattern)\n",
    "multiline = re.compile(pattern, re.MULTILINE)\n",
    "\n",
    "print 'Text        :', repr(text)\n",
    "print 'Pattern     :', pattern\n",
    "print 'Single Line :', single_line.findall(text)\n",
    "print 'Multline    :', multiline.findall(text)"
   ]
  },
  {
   "cell_type": "markdown",
   "metadata": {},
   "source": [
    "#####Verbose Expression Syntax"
   ]
  },
  {
   "cell_type": "code",
   "execution_count": null,
   "metadata": {
    "collapsed": true
   },
   "outputs": [],
   "source": [
    "import re\n",
    "\n",
    "address = re.compile('[\\w\\d.+-]+@([\\w\\d.]+\\.)+(com|org|edu)', re.UNICODE)\n",
    "\n",
    "candidates = [\n",
    "    u'first.last@example.com',\n",
    "    u'first.last+category@gmail.com',\n",
    "    u'valid-address@mail.example.com',\n",
    "    u'not-valid@example.foo',\n",
    "    ]\n",
    "\n",
    "for candidate in candidates:\n",
    "    print\n",
    "    print 'Candidate:', candidate\n",
    "    match = address.search(candidate)\n",
    "    if match:\n",
    "        print '  Matches'\n",
    "    else:\n",
    "        print '  No match'\n",
    "    "
   ]
  },
  {
   "cell_type": "code",
   "execution_count": null,
   "metadata": {
    "collapsed": true
   },
   "outputs": [],
   "source": [
    "import re\n",
    "\n",
    "address = re.compile(\n",
    "    '''\n",
    "    [\\w\\d.+-]+       # username\n",
    "    @\n",
    "    ([\\w\\d.]+\\.)+    # domain name prefix\n",
    "    (com|org|edu)    # we should support more top-level domains\n",
    "    ''',\n",
    "    re.UNICODE | re.VERBOSE)\n",
    "\n",
    "candidates = [\n",
    "    u'first.last@example.com',\n",
    "    u'first.last+category@gmail.com',\n",
    "    u'valid-address@mail.example.com',\n",
    "    u'not-valid@example.foo',\n",
    "    ]\n",
    "\n",
    "for candidate in candidates:\n",
    "    print\n",
    "    print 'Candidate:', candidate\n",
    "    match = address.search(candidate)\n",
    "    if match:\n",
    "        print '  Matches'\n",
    "    else:\n",
    "        print '  No match'\n",
    "    "
   ]
  },
  {
   "cell_type": "markdown",
   "metadata": {},
   "source": [
    "#####Splitting with Patterns"
   ]
  },
  {
   "cell_type": "code",
   "execution_count": null,
   "metadata": {
    "collapsed": true
   },
   "outputs": [],
   "source": [
    "import re\n",
    "\n",
    "text = 'Paragraph one\\non two lines.\\n\\nParagraph two.\\n\\n\\nParagraph three.'\n",
    "\n",
    "print 'With findall:'\n",
    "for num, para in enumerate(re.findall(r'(.+?)(\\n{2,}|$)', text, flags=re.DOTALL)):\n",
    "    print num, repr(para)\n",
    "    print\n",
    "\n",
    "print\n",
    "print 'With split:'\n",
    "for num, para in enumerate(re.split(r'\\n{2,}', text)):\n",
    "    print num, repr(para)\n",
    "    print"
   ]
  },
  {
   "cell_type": "code",
   "execution_count": null,
   "metadata": {
    "collapsed": true
   },
   "outputs": [],
   "source": []
  },
  {
   "cell_type": "code",
   "execution_count": null,
   "metadata": {
    "collapsed": true
   },
   "outputs": [],
   "source": []
  },
  {
   "cell_type": "markdown",
   "metadata": {},
   "source": [
    "###Testing Your Code\n",
    "\n",
    "####Testing your code is very important.\n",
    "\n",
    "\n",
    "* Some general rules of testing:\n",
    "\n",
    " * A testing unit should focus on one tiny bit of functionality and prove it correct.\n",
    " * Each test unit must be fully independent. \n",
    " * Each of them must be able to run alone, and also within the test suite, regardless of the order they are called.\n",
    " * The implication of this rule is that each test must be loaded with a fresh dataset and may have to do some cleanup afterwards. \n",
    " * This is usually handled by setUp() and tearDown() methods."
   ]
  },
  {
   "cell_type": "markdown",
   "metadata": {
    "collapsed": true
   },
   "source": [
    "##Unittest\n",
    " \n",
    " * Python standard library provides a library called unittest.\n",
    " \n",
    " Consider example:\n",
    " `unittest_example1.py`\n",
    " \n",
    " \n",
    "```python\n",
    "import unittest\n",
    "from calculator import multiply\n",
    "\n",
    "class TestUM(unittest.TestCase):\n",
    "\n",
    "    def setUp(self):\n",
    "        pass\n",
    "\n",
    "    def test_numbers_3_4(self):\n",
    "        self.assertEqual( multiply(3,4), 12)\n",
    "\n",
    "    def test_strings_a_3(self):\n",
    "        self.assertEqual( multiply('a',3), 'aaa')\n",
    "\n",
    "if __name__ == '__main__':\n",
    "    unittest.main()\n",
    "```\n",
    "\n",
    "-------------------------\n",
    "\n",
    "```python\n",
    "#calculator.py\n",
    "def multiply(a, b):\n",
    "    return a * b\n",
    "\n",
    "\n",
    "```\n",
    "\n",
    "Method \tChecks\n",
    "\n",
    "-------------------------------------\n",
    "\n",
    "* assertEqual(a, b) \t \t------------>  a == b \t \n",
    "* assertNotEqual(a, b) ------------> a != b \t \n",
    "* assertTrue(x) \t------------>  bool(x) is True \t \n",
    "* assertFalse(x) \t------------>  bool(x) is False \t \n",
    "* assertIs(a, b) \t------------>  a is b \t2.7\n",
    "* assertIsNot(a, b) \t------------>  a is not b \n",
    "* assertIsNone(x) \t------------>  x is None\n",
    "* assertIsNotNone(x) \t------------>  x is not None\n",
    "* assertIn(a, b) \t------------>  a in b \n",
    "* assertNotIn(a, b) \t------------>  a not in b \n",
    "* assertIsInstance(a, b) \t------------>  isinstance(a, b)\n",
    "* assertNotIsInstance(a, b) \t------------>  not isinstance(a, b)"
   ]
  },
  {
   "cell_type": "markdown",
   "metadata": {},
   "source": [
    "\n",
    "* executing the test will show up results like:\n",
    "\n",
    "```python\n",
    "\n",
    "> python unittest_example1.py\n",
    "..\n",
    "----------------------------------------------------------------------\n",
    "Ran 2 tests in 0.000s\n",
    "\n",
    "OK\n",
    "> python test_um_unittest.py -v\n",
    "test_numbers_3_4 (__main__.TestUM) ... ok\n",
    "test_strings_a_3 (__main__.TestUM) ... ok\n",
    "\n",
    "----------------------------------------------------------------------\n",
    "Ran 2 tests in 0.000s\n",
    "\n",
    "OK\n",
    "\n",
    "```"
   ]
  },
  {
   "cell_type": "markdown",
   "metadata": {},
   "source": [
    "###Doctest\n",
    "\n",
    "* e.g.\n",
    "\n",
    "```python\n",
    "#doctest_example1.py\n",
    "def square(x):\n",
    "    \"\"\"Squares x.\n",
    "\n",
    "    >>> square(2)\n",
    "    4\n",
    "    >>> square(-2)\n",
    "    4\n",
    "    \"\"\"\n",
    "\n",
    "    return x * x\n",
    "\n",
    "if __name__ == '__main__':\n",
    "    import doctest\n",
    "    doctest.testmod()\n",
    "    #or python -m doctest <file>\n",
    "```\n"
   ]
  },
  {
   "cell_type": "markdown",
   "metadata": {},
   "source": [
    "###Other tools\n",
    "\n",
    "\n",
    "####py.test\n",
    "\n",
    "* py.test is a no-boilerplate alternative to Python’s standard unittest module.\n",
    "\n",
    "`$ pip install pytest`\n",
    "\n",
    "* Despite being a fully-featured and extensible test tool, it boasts a simple syntax. Creating a test suite is as easy as writing a module with a couple of functions:\n",
    "\n",
    "```python\n",
    "# content of test_sample.py\n",
    "def func(x):\n",
    "    return x + 1\n",
    "\n",
    "def test_answer():\n",
    "    assert func(3) == 5\n",
    "```\n",
    "\n",
    "and then running the py.test command\n",
    "\n",
    "```python\n",
    "\n",
    "$ py.test\n",
    "=========================== test session starts ============================\n",
    "platform darwin -- Python 2.7.1 -- pytest-2.2.1\n",
    "collecting ... collected 1 items\n",
    "\n",
    "test_sample.py F\n",
    "\n",
    "================================= FAILURES =================================\n",
    "_______________________________ test_answer ________________________________\n",
    "\n",
    "    def test_answer():\n",
    ">       assert func(3) == 5\n",
    "E       assert 4 == 5\n",
    "E        +  where 4 = func(3)\n",
    "\n",
    "test_sample.py:5: AssertionError\n",
    "========================= 1 failed in 0.02 seconds =========================\n",
    "```\n",
    "\n",
    "\n",
    "\n",
    "###Nose\n",
    "\n",
    "* nose extends unittest to make testing easier.\n",
    "\n",
    "`$ pip install nose`\n",
    "\n",
    "nose provides automatic test discovery to save you the hassle of manually creating test suites. It also provides numerous plugins for features such as xUnit-compatible test output, coverage reporting, and test selection.\n",
    "\n",
    "\n",
    "\n",
    "###tox\n",
    "\n",
    "* tox is a tool for automating test environment management and testing against multiple interpreter configurations\n",
    "\n",
    "`$ pip install tox`\n",
    "\n",
    "tox allows you to configure complicated multi-parameter test matrices via a simple ini-style configuration file.\n",
    "\n",
    "###Unittest2\n",
    "\n",
    "* unittest2 is a backport of Python 2.7’s unittest module which has an improved API and better assertions over the one available in previous versions of Python.\n",
    "\n",
    "* If you’re using Python 2.6 or below, you can install it with pip\n",
    "\n",
    "`$ pip install unittest2`\n",
    "\n",
    "* You may want to import the module under the name unittest to make porting code to newer versions of the module easier in the future\n",
    "\n",
    "```python\n",
    "import unittest2 as unittest\n",
    "\n",
    "class MyTest(unittest.TestCase):\n",
    "    ...\n",
    "```\n",
    "\n",
    "* This way if you ever switch to a newer Python version and no longer need the unittest2 module, you can simply change the import in your test module without the need to change any other code.\n",
    "\n",
    "\n",
    "###mock\n",
    "\n",
    "* unittest.mock is a library for testing in Python. As of Python 3.3, it is available in the standard library.\n",
    "\n",
    "For older versions of Python:\n",
    "\n",
    "`$ pip install mock`\n",
    "\n",
    "* It allows you to replace parts of your system under test with mock objects and make assertions about how they have been used.\n",
    "\n",
    " * For example, you can monkey-patch a method:\n",
    "\n",
    "```python\n",
    "\n",
    "from mock import MagicMock\n",
    "thing = ProductionClass()\n",
    "thing.method = MagicMock(return_value=3)\n",
    "thing.method(3, 4, 5, key='value')\n",
    "\n",
    "thing.method.assert_called_with(3, 4, 5, key='value')\\\n",
    "```\n",
    "\n",
    "\n",
    "* To mock classes or objects in a module under test, use the patch decorator. \n",
    "* In the example below, an external search system is replaced with a mock that always returns the same result (but only for the duration of the test).\n",
    "\n",
    "```python\n",
    "\n",
    "def mock_search(self):\n",
    "    class MockSearchQuerySet(SearchQuerySet):\n",
    "        def __iter__(self):\n",
    "            return iter([\"foo\", \"bar\", \"baz\"])\n",
    "    return MockSearchQuerySet()\n",
    "\n",
    "# SearchForm here refers to the imported class reference in myapp,\n",
    "# not where the SearchForm class itself is imported from\n",
    "@mock.patch('myapp.SearchForm.search', mock_search)\n",
    "def test_new_watchlist_activities(self):\n",
    "    # get_search_results runs a search and iterates over the result\n",
    "    self.assertEqual(len(myapp.get_search_results(q=\"fish\")), 3)\n",
    "```\n",
    "\n",
    "Mock has many other ways you can configure it and control its behavior."
   ]
  },
  {
   "cell_type": "code",
   "execution_count": null,
   "metadata": {
    "collapsed": true
   },
   "outputs": [],
   "source": []
  }
 ],
 "metadata": {
  "kernelspec": {
   "display_name": "Python 2",
   "language": "python",
   "name": "python2"
  },
  "language_info": {
   "codemirror_mode": {
    "name": "ipython",
    "version": 2
   },
   "file_extension": ".py",
   "mimetype": "text/x-python",
   "name": "python",
   "nbconvert_exporter": "python",
   "pygments_lexer": "ipython2",
   "version": "2.7.10"
  }
 },
 "nbformat": 4,
 "nbformat_minor": 0
}
