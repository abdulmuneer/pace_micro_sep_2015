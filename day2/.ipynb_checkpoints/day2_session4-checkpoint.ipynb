{
 "cells": [
  {
   "cell_type": "markdown",
   "metadata": {},
   "source": [
    "#### SSH"
   ]
  },
  {
   "cell_type": "code",
   "execution_count": null,
   "metadata": {
    "collapsed": true
   },
   "outputs": [],
   "source": [
    "import paramiko\n",
    "import time\n",
    "def disable_paging(remote_conn):\n",
    "    '''Disable paging on a Cisco router'''\n",
    "\n",
    "    remote_conn.send(\"terminal length 0\\n\")\n",
    "    time.sleep(1)\n",
    "    # Clear the buffer on the screen\n",
    "    output = remote_conn.recv(1000)\n",
    "    return output\n",
    "\n",
    "if __name__ == '__main__':\n",
    "\n",
    "\n",
    "    # VARIABLES THAT NEED CHANGED\n",
    "    ip = '1.1.1.16'\n",
    "    username = 'testuser'\n",
    "    password = 'password'\n",
    "\n",
    "    # Create instance of SSHClient object\n",
    "    remote_conn_pre = paramiko.SSHClient()\n",
    "\n",
    "    # Automatically add untrusted hosts (make sure okay for security policy in your environment)\n",
    "    remote_conn_pre.set_missing_host_key_policy(\n",
    "         paramiko.AutoAddPolicy())\n",
    "\n",
    "    # initiate SSH connection\n",
    "    remote_conn_pre.connect(ip, username=username, password=password)\n",
    "    print \"SSH connection established to %s\" % ip\n",
    "\n",
    "    # Use invoke_shell to establish an 'interactive session'\n",
    "    remote_conn = remote_conn_pre.invoke_shell()\n",
    "    print \"Interactive SSH session established\"\n",
    "\n",
    "    # Strip the initial router prompt\n",
    "    output = remote_conn.recv(1000)\n",
    "\n",
    "    # See what we have\n",
    "    print output\n",
    "\n",
    "    # Turn off paging\n",
    "    disable_paging(remote_conn)\n",
    "\n",
    "    # Now let's try to send the router a command\n",
    "    remote_conn.send(\"\\n\")\n",
    "    remote_conn.send(\"show ip int brief\\n\")\n",
    "\n",
    "    # Wait for the command to complete\n",
    "    time.sleep(2)\n",
    "    \n",
    "    output = remote_conn.recv(5000)\n",
    "    print output"
   ]
  },
  {
   "cell_type": "code",
   "execution_count": null,
   "metadata": {
    "collapsed": true
   },
   "outputs": [],
   "source": []
  },
  {
   "cell_type": "markdown",
   "metadata": {},
   "source": [
    "####TELNET"
   ]
  },
  {
   "cell_type": "code",
   "execution_count": null,
   "metadata": {
    "collapsed": true
   },
   "outputs": [],
   "source": [
    "#telnet\n",
    "\n",
    "import getpass\n",
    "import sys\n",
    "import telnetlib\n",
    "\n",
    "HOST = \"hostname\"\n",
    "\n",
    "user = raw_input(\"Enter your remote account: \")\n",
    "\n",
    "password = getpass.getpass()\n",
    "\n",
    "tn = telnetlib.Telnet(HOST)\n",
    "\n",
    "tn.read_until(\"login: \")\n",
    "\n",
    "tn.write(user + \"\\n\")\n",
    "\n",
    "if password:\n",
    "    tn.read_until(\"Password: \")\n",
    "    tn.write(password + \"\\n\")\n",
    "\n",
    "tn.write(\"ls\\n\")\n",
    "\n",
    "tn.write(\"exit\\n\")\n",
    "\n",
    "print tn.read_all()"
   ]
  },
  {
   "cell_type": "markdown",
   "metadata": {},
   "source": [
    "###HTTP"
   ]
  },
  {
   "cell_type": "code",
   "execution_count": null,
   "metadata": {
    "collapsed": true
   },
   "outputs": [],
   "source": [
    "import requests"
   ]
  },
  {
   "cell_type": "code",
   "execution_count": null,
   "metadata": {
    "collapsed": true
   },
   "outputs": [],
   "source": [
    "x = requests.get(\"http://0.0.0.0:8888/\")\n",
    "print dir(x)"
   ]
  },
  {
   "cell_type": "code",
   "execution_count": null,
   "metadata": {
    "collapsed": true
   },
   "outputs": [],
   "source": [
    "print x.status_code"
   ]
  },
  {
   "cell_type": "code",
   "execution_count": null,
   "metadata": {
    "collapsed": true
   },
   "outputs": [],
   "source": [
    "print x.content"
   ]
  },
  {
   "cell_type": "code",
   "execution_count": null,
   "metadata": {
    "collapsed": true
   },
   "outputs": [],
   "source": [
    "help(requests.post)"
   ]
  },
  {
   "cell_type": "code",
   "execution_count": null,
   "metadata": {
    "collapsed": true
   },
   "outputs": [],
   "source": [
    "print x.text"
   ]
  },
  {
   "cell_type": "code",
   "execution_count": null,
   "metadata": {
    "collapsed": true
   },
   "outputs": [],
   "source": [
    "y= requests.post('http://0.0.0.0:8888/')"
   ]
  },
  {
   "cell_type": "markdown",
   "metadata": {},
   "source": [
    "#### SERIAL PORT"
   ]
  },
  {
   "cell_type": "code",
   "execution_count": null,
   "metadata": {
    "collapsed": true
   },
   "outputs": [],
   "source": [
    "import serial"
   ]
  },
  {
   "cell_type": "code",
   "execution_count": null,
   "metadata": {
    "collapsed": true
   },
   "outputs": [],
   "source": [
    "ser = serial.Serial('/dev/ttys001')\n",
    "ser.portstr"
   ]
  },
  {
   "cell_type": "code",
   "execution_count": null,
   "metadata": {
    "collapsed": true
   },
   "outputs": [],
   "source": [
    "dir(ser)"
   ]
  },
  {
   "cell_type": "markdown",
   "metadata": {},
   "source": [
    "write(data) will write the string data to the port and returns no. of bytes sent."
   ]
  },
  {
   "cell_type": "code",
   "execution_count": null,
   "metadata": {
    "collapsed": true
   },
   "outputs": [],
   "source": [
    "ser.write('+++')"
   ]
  },
  {
   "cell_type": "markdown",
   "metadata": {},
   "source": [
    "- read(size) will read data from serial port\n",
    "\n",
    "- A time out can be set, so that within that time if no characters are received, read() will return an empty string. \n",
    "-  If timout is None, read() won’t return until it receives the no. of bytes specified as argument.\n"
   ]
  },
  {
   "cell_type": "code",
   "execution_count": null,
   "metadata": {
    "collapsed": true
   },
   "outputs": [],
   "source": [
    "ser.timeout = 1\n",
    "ser.read(1)"
   ]
  },
  {
   "cell_type": "code",
   "execution_count": null,
   "metadata": {
    "collapsed": true
   },
   "outputs": [],
   "source": [
    "ser.timeout = None\n",
    "ser.read(1)"
   ]
  },
  {
   "cell_type": "code",
   "execution_count": null,
   "metadata": {
    "collapsed": true
   },
   "outputs": [],
   "source": [
    "ser.readline()      # return the string when it sees new line character or EOL"
   ]
  },
  {
   "cell_type": "code",
   "execution_count": null,
   "metadata": {
    "collapsed": true
   },
   "outputs": [],
   "source": [
    "ser.readlines()     # It will return only the no of bytes read within the specified timeout."
   ]
  }
 ],
 "metadata": {
  "kernelspec": {
   "display_name": "Python 2",
   "language": "python",
   "name": "python2"
  },
  "language_info": {
   "codemirror_mode": {
    "name": "ipython",
    "version": 2
   },
   "file_extension": ".py",
   "mimetype": "text/x-python",
   "name": "python",
   "nbconvert_exporter": "python",
   "pygments_lexer": "ipython2",
   "version": "2.7.10"
  }
 },
 "nbformat": 4,
 "nbformat_minor": 0
}
