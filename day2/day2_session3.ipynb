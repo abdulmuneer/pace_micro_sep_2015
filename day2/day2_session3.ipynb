{
 "cells": [
  {
   "cell_type": "markdown",
   "metadata": {},
   "source": [
    "Parsing\n",
    "1. ConfigParser\n",
    "2. HTML Parser\n",
    "3. XML Parser\n",
    "4. JSON"
   ]
  },
  {
   "cell_type": "markdown",
   "metadata": {},
   "source": [
    "###Config Parser\n",
    "\n",
    "* A sample configuration file with section “bug_tracker” and three options would look like:\n",
    "```\n",
    "[bug_tracker]\n",
    "url = http://localhost:8080/bugs/\n",
    "username = pace\n",
    "password = SECRET\n",
    "```\n",
    "\n",
    "* e.g.: Backup all MySQL databases, one in each file with a timestamp on the end.\n",
    "\n",
    "```python\n",
    "#Importing the modules\n",
    "import os\n",
    "import ConfigParser\n",
    "import time\n",
    "\n",
    "# On Debian, /etc/mysql/debian.cnf contains 'root' a like login and password.\n",
    "config = ConfigParser.ConfigParser()\n",
    "config.read(\"/etc/mysql/debian.cnf\")\n",
    "username = config.get('client', 'user')\n",
    "password = config.get('client', 'password')\n",
    "hostname = config.get('client', 'host')\n",
    "filestamp = time.strftime('%Y-%m-%d')\n",
    "\n",
    "# Get a list of databases with :\n",
    "database_list_command=\"mysql -u %s -p%s -h %s --silent -N -e 'show databases'\" % (username, password, hostname)\n",
    "for database in os.popen(database_list_command).readlines():\n",
    "    database = database.strip()\n",
    "    if database == 'information_schema':\n",
    "        continue\n",
    "    if database == 'performance_schema':\n",
    "        continue\n",
    "    filename = \"/backups/mysql/%s-%s.sql\" % (database, filestamp)\n",
    "    os.popen(\"mysqldump --single-transaction -u %s -p%s -h %s -d %s | gzip -c > %s.gz\" % (username, password, hostname, database, filename))\n",
    "  \n",
    "```\n",
    "\n"
   ]
  },
  {
   "cell_type": "code",
   "execution_count": null,
   "metadata": {
    "collapsed": false
   },
   "outputs": [],
   "source": [
    "import ConfigParser\n",
    "cfg = ConfigParser.ConfigParser()\n",
    "cfg.read('config.cfg')\n",
    "print cfg\n",
    "\n",
    "print dir(cfg)"
   ]
  },
  {
   "cell_type": "code",
   "execution_count": null,
   "metadata": {
    "collapsed": false
   },
   "outputs": [],
   "source": [
    "print cfg.sections()"
   ]
  },
  {
   "cell_type": "code",
   "execution_count": null,
   "metadata": {
    "collapsed": false
   },
   "outputs": [],
   "source": [
    "print cfg.has_section('test')"
   ]
  },
  {
   "cell_type": "code",
   "execution_count": null,
   "metadata": {
    "collapsed": false
   },
   "outputs": [],
   "source": [
    "print cfg.get('section1', 'bb')"
   ]
  },
  {
   "cell_type": "markdown",
   "metadata": {},
   "source": [
    "###HTML Parsing\n"
   ]
  },
  {
   "cell_type": "code",
   "execution_count": null,
   "metadata": {
    "collapsed": false
   },
   "outputs": [],
   "source": [
    "html_doc = \"\"\"\n",
    "<html><head><title>The Dormouse's story</title></head>\n",
    "<body>\n",
    "<p class=\"title\"><b>The Dormouse's story</b></p>\n",
    "\n",
    "<p class=\"story\">Once upon a time there were three little sisters; and their names were\n",
    "<a href=\"http://example.com/elsie\" class=\"sister\" id=\"link1\">Elsie</a>,\n",
    "<a href=\"http://example.com/lacie\" class=\"sister\" id=\"link2\">Lacie</a> and\n",
    "<a href=\"http://example.com/tillie\" class=\"sister\" id=\"link3\">Tillie</a>;\n",
    "and they lived at the bottom of a well.</p>\n",
    "\n",
    "<p class=\"story\">...</p>\n",
    "\"\"\"\n",
    "\n",
    "from BeautifulSoup import BeautifulSoup\n",
    "soup = BeautifulSoup(html_doc)\n",
    "\n",
    "print(soup.prettify())\n",
    "# <html>\n",
    "#  <head>\n",
    "#   <title>\n",
    "#    The Dormouse's story\n",
    "#   </title>\n",
    "#  </head>\n",
    "#  <body>\n",
    "#   <p class=\"title\">\n",
    "#    <b>\n",
    "#     The Dormouse's story\n",
    "#    </b>\n",
    "#   </p>\n",
    "#   <p class=\"story\">\n",
    "#    Once upon a time there were three little sisters; and their names were\n",
    "#    <a class=\"sister\" href=\"http://example.com/elsie\" id=\"link1\">\n",
    "#     Elsie\n",
    "#    </a>\n",
    "#    ,\n",
    "#    <a class=\"sister\" href=\"http://example.com/lacie\" id=\"link2\">\n",
    "#     Lacie\n",
    "#    </a>\n",
    "#    and\n",
    "#    <a class=\"sister\" href=\"http://example.com/tillie\" id=\"link2\">\n",
    "#     Tillie\n",
    "#    </a>\n",
    "#    ; and they lived at the bottom of a well.\n",
    "#   </p>\n",
    "#   <p class=\"story\">\n",
    "#    ...\n",
    "#   </p>\n",
    "#  </body>\n",
    "# </html>"
   ]
  },
  {
   "cell_type": "code",
   "execution_count": null,
   "metadata": {
    "collapsed": false
   },
   "outputs": [],
   "source": [
    "soup.title\n",
    "# <title>The Dormouse's story</title>\n"
   ]
  },
  {
   "cell_type": "code",
   "execution_count": null,
   "metadata": {
    "collapsed": false
   },
   "outputs": [],
   "source": [
    "\n",
    "soup.title.name\n",
    "# u'title'\n"
   ]
  },
  {
   "cell_type": "code",
   "execution_count": null,
   "metadata": {
    "collapsed": false
   },
   "outputs": [],
   "source": [
    "\n",
    "soup.title.string\n",
    "# u'The Dormouse's story'\n"
   ]
  },
  {
   "cell_type": "code",
   "execution_count": null,
   "metadata": {
    "collapsed": false
   },
   "outputs": [],
   "source": [
    "print soup.title.parent.name\n",
    "# u'head'"
   ]
  },
  {
   "cell_type": "code",
   "execution_count": null,
   "metadata": {
    "collapsed": false
   },
   "outputs": [],
   "source": [
    "soup.p\n",
    "# <p class=\"title\"><b>The Dormouse's story</b></p>\n"
   ]
  },
  {
   "cell_type": "code",
   "execution_count": null,
   "metadata": {
    "collapsed": false
   },
   "outputs": [],
   "source": [
    "soup.p['class']\n",
    "# u'title'"
   ]
  },
  {
   "cell_type": "code",
   "execution_count": null,
   "metadata": {
    "collapsed": false
   },
   "outputs": [],
   "source": [
    "soup.a\n",
    "# <a class=\"sister\" href=\"http://example.com/elsie\" id=\"link1\">Elsie</a>\n"
   ]
  },
  {
   "cell_type": "code",
   "execution_count": null,
   "metadata": {
    "collapsed": false
   },
   "outputs": [],
   "source": [
    "from BeautifulSoup import BeautifulSoup\n",
    "soup = BeautifulSoup(html_doc)\n",
    "print [x for x in dir(soup) if 'find' in x]\n",
    "print soup.findAll('a')\n",
    "# [<a class=\"sister\" href=\"http://example.com/elsie\" id=\"link1\">Elsie</a>,\n",
    "#  <a class=\"sister\" href=\"http://example.com/lacie\" id=\"link2\">Lacie</a>,\n",
    "#  <a class=\"sister\" href=\"http://example.com/tillie\" id=\"link3\">Tillie</a>]\n"
   ]
  },
  {
   "cell_type": "code",
   "execution_count": null,
   "metadata": {
    "collapsed": false
   },
   "outputs": [],
   "source": [
    "soup.find(id=\"link3\")\n",
    "# <a class=\"sister\" href=\"http://example.com/tillie\" id=\"link3\">Tillie</a>"
   ]
  },
  {
   "cell_type": "code",
   "execution_count": null,
   "metadata": {
    "collapsed": false
   },
   "outputs": [],
   "source": [
    "#  extracting all the URLs found within a page’s <a> tags:\n",
    "for link in soup.find_all('a'):\n",
    "    print(link.get('href'))\n",
    "# http://example.com/elsie\n",
    "# http://example.com/lacie\n",
    "# http://example.com/tillie\n"
   ]
  },
  {
   "cell_type": "code",
   "execution_count": null,
   "metadata": {
    "collapsed": false
   },
   "outputs": [],
   "source": [
    "#Another common task is extracting all the text from a page:\n",
    "from BeautifulSoup import BeautifulSoup\n",
    "soup = BeautifulSoup(html_doc)\n",
    "print  [x for x in dir(soup) if 'text' in x]\n",
    "print(soup.text)\n"
   ]
  },
  {
   "cell_type": "markdown",
   "metadata": {},
   "source": [
    "### XML Parsing"
   ]
  },
  {
   "cell_type": "markdown",
   "metadata": {},
   "source": [
    "```xml\n",
    "<data>\n",
    "    <items>\n",
    "        <item name=\"item1\"></item>\n",
    "        <item name=\"item2\"></item>\n",
    "        <item name=\"item3\"></item>\n",
    "        <item name=\"item4\"></item>\n",
    "    </items>\n",
    "</data>\n",
    "```"
   ]
  },
  {
   "cell_type": "code",
   "execution_count": null,
   "metadata": {
    "collapsed": false
   },
   "outputs": [],
   "source": [
    "from xml.dom import minidom\n",
    "xmldoc = minidom.parse('sample.xml')\n",
    "itemlist = xmldoc.getElementsByTagName('item')\n",
    "print(len(itemlist))\n",
    "print(itemlist[0].attributes['name'].value)\n",
    "for s in itemlist:\n",
    "    print(s.attributes['name'].value)"
   ]
  },
  {
   "cell_type": "markdown",
   "metadata": {},
   "source": [
    "__lxml__ is another library.\n",
    "\n",
    "New libraries keep coming.\n",
    "\n",
    "E.g.: __untangle__\n",
    "* untangle is a simple library which takes an XML document and returns a Python object which mirrors the nodes and attributes in its structure.\n",
    "\n",
    "* xmltodict is another simple library that aims at making XML feel like working with JSON."
   ]
  },
  {
   "cell_type": "code",
   "execution_count": null,
   "metadata": {
    "collapsed": false
   },
   "outputs": [],
   "source": [
    "import untangle\n",
    "obj = untangle.parse('sample.xml')\n",
    "obj.root.child['name']"
   ]
  },
  {
   "cell_type": "markdown",
   "metadata": {},
   "source": [
    "```xml\n",
    "<mydocument has=\"an attribute\">\n",
    "  <and>\n",
    "    <many>elements</many>\n",
    "    <many>more elements</many>\n",
    "  </and>\n",
    "  <plus a=\"complex\">\n",
    "    element as well\n",
    "  </plus>\n",
    "</mydocument>\n",
    "```"
   ]
  },
  {
   "cell_type": "code",
   "execution_count": null,
   "metadata": {
    "collapsed": false
   },
   "outputs": [],
   "source": [
    "import xmltodict\n",
    "\n",
    "with open('sample2.xml') as fd:\n",
    "    obj = xmltodict.parse(fd.read())\n",
    "    \n",
    "#and then you can access elements, attributes and values like this:\n",
    "\n",
    "doc['mydocument']['@has'] # == u'an attribute'\n",
    "doc['mydocument']['and']['many'] # == [u'elements', u'more elements']\n",
    "doc['mydocument']['plus']['@a'] # == u'complex'\n",
    "doc['mydocument']['plus']['#text'] # == u'element as well'\n",
    "\n"
   ]
  },
  {
   "cell_type": "code",
   "execution_count": null,
   "metadata": {
    "collapsed": false
   },
   "outputs": [],
   "source": [
    "import simplejson"
   ]
  },
  {
   "cell_type": "markdown",
   "metadata": {},
   "source": [
    "```python\n",
    "    >>> import simplejson as json\n",
    "    >>> json.dumps(['foo', {'bar': ('baz', None, 1.0, 2)}])\n",
    "    '[\"foo\", {\"bar\": [\"baz\", null, 1.0, 2]}]'\n",
    "    >>> print(json.dumps(\"\\\"foo\\bar\"))\n",
    "    \"\\\"foo\\bar\"\n",
    "    >>> print(json.dumps(u'\\u1234'))\n",
    "    \"\\u1234\"\n",
    "    >>> print(json.dumps('\\\\'))\n",
    "    \"\\\\\"\n",
    "    >>> print(json.dumps({\"c\": 0, \"b\": 0, \"a\": 0}, sort_keys=True))\n",
    "    {\"a\": 0, \"b\": 0, \"c\": 0}\n",
    "\n",
    "```"
   ]
  }
 ],
 "metadata": {
  "kernelspec": {
   "display_name": "Python 2",
   "language": "python",
   "name": "python2"
  },
  "language_info": {
   "codemirror_mode": {
    "name": "ipython",
    "version": 2
   },
   "file_extension": ".py",
   "mimetype": "text/x-python",
   "name": "python",
   "nbconvert_exporter": "python",
   "pygments_lexer": "ipython2",
   "version": "2.7.10"
  }
 },
 "nbformat": 4,
 "nbformat_minor": 0
}
