{
 "cells": [
  {
   "cell_type": "markdown",
   "metadata": {},
   "source": [
    "Parsing\n",
    "1. ConfigParser\n",
    "2. HTML Parser\n",
    "3. XML Parser\n",
    "4. JSON"
   ]
  },
  {
   "cell_type": "markdown",
   "metadata": {},
   "source": [
    "###Config Parser\n",
    "\n",
    "* A sample configuration file with section “bug_tracker” and three options would look like:\n",
    "```\n",
    "[bug_tracker]\n",
    "url = http://localhost:8080/bugs/\n",
    "username = pace\n",
    "password = SECRET\n",
    "```\n",
    "\n",
    "* e.g.: Backup all MySQL databases, one in each file with a timestamp on the end.\n",
    "\n",
    "```python\n",
    "#Importing the modules\n",
    "import os\n",
    "import ConfigParser\n",
    "import time\n",
    "\n",
    "# On Debian, /etc/mysql/debian.cnf contains 'root' a like login and password.\n",
    "config = ConfigParser.ConfigParser()\n",
    "config.read(\"/etc/mysql/debian.cnf\")\n",
    "username = config.get('client', 'user')\n",
    "password = config.get('client', 'password')\n",
    "hostname = config.get('client', 'host')\n",
    "filestamp = time.strftime('%Y-%m-%d')\n",
    "\n",
    "# Get a list of databases with :\n",
    "database_list_command=\"mysql -u %s -p%s -h %s --silent -N -e 'show databases'\" % (username, password, hostname)\n",
    "for database in os.popen(database_list_command).readlines():\n",
    "    database = database.strip()\n",
    "    if database == 'information_schema':\n",
    "        continue\n",
    "    if database == 'performance_schema':\n",
    "        continue\n",
    "    filename = \"/backups/mysql/%s-%s.sql\" % (database, filestamp)\n",
    "    os.popen(\"mysqldump --single-transaction -u %s -p%s -h %s -d %s | gzip -c > %s.gz\" % (username, password, hostname, database, filename))\n",
    "  \n",
    "```\n",
    "\n"
   ]
  },
  {
   "cell_type": "code",
   "execution_count": 5,
   "metadata": {
    "collapsed": false
   },
   "outputs": [
    {
     "name": "stdout",
     "output_type": "stream",
     "text": [
      "<ConfigParser.ConfigParser instance at 0x7faa740e25a8>\n",
      "['OPTCRE', 'OPTCRE_NV', 'SECTCRE', '_KEYCRE', '__doc__', '__init__', '__module__', '_boolean_states', '_defaults', '_dict', '_get', '_interpolate', '_interpolation_replace', '_optcre', '_read', '_sections', 'add_section', 'defaults', 'get', 'getboolean', 'getfloat', 'getint', 'has_option', 'has_section', 'items', 'options', 'optionxform', 'read', 'readfp', 'remove_option', 'remove_section', 'sections', 'set', 'write']\n"
     ]
    }
   ],
   "source": [
    "import ConfigParser\n",
    "cfg = ConfigParser.ConfigParser()\n",
    "cfg.read('config.cfg')\n",
    "print cfg\n",
    "\n",
    "print dir(cfg)"
   ]
  },
  {
   "cell_type": "code",
   "execution_count": 2,
   "metadata": {
    "collapsed": false
   },
   "outputs": [
    {
     "name": "stdout",
     "output_type": "stream",
     "text": [
      "['bug_tracker']\n"
     ]
    }
   ],
   "source": [
    "print cfg.sections()"
   ]
  },
  {
   "cell_type": "code",
   "execution_count": 3,
   "metadata": {
    "collapsed": false
   },
   "outputs": [
    {
     "name": "stdout",
     "output_type": "stream",
     "text": [
      "[bug_tracker]\r\n",
      "url = http://localhost:8080/bugs/\r\n",
      "username = pace\r\n",
      "password = SECRET\r\n",
      "\r\n"
     ]
    }
   ],
   "source": [
    "!cat config.cfg\n"
   ]
  },
  {
   "cell_type": "code",
   "execution_count": 4,
   "metadata": {
    "collapsed": false
   },
   "outputs": [
    {
     "name": "stdout",
     "output_type": "stream",
     "text": [
      "False\n"
     ]
    }
   ],
   "source": [
    "print cfg.has_section('test')"
   ]
  },
  {
   "cell_type": "code",
   "execution_count": null,
   "metadata": {
    "collapsed": false
   },
   "outputs": [],
   "source": [
    "print cfg.get('section1', 'bb')"
   ]
  },
  {
   "cell_type": "markdown",
   "metadata": {},
   "source": [
    "###HTML Parsing\n"
   ]
  },
  {
   "cell_type": "code",
   "execution_count": 6,
   "metadata": {
    "collapsed": false
   },
   "outputs": [
    {
     "name": "stdout",
     "output_type": "stream",
     "text": [
      "<html>\n",
      " <head>\n",
      "  <title>\n",
      "   The Dormouse's story\n",
      "  </title>\n",
      " </head>\n",
      " <body>\n",
      "  <p class=\"title\">\n",
      "   <b>\n",
      "    The Dormouse's story\n",
      "   </b>\n",
      "  </p>\n",
      "  <p class=\"story\">\n",
      "   Once upon a time there were three little sisters; and their names were\n",
      "   <a href=\"http://example.com/elsie\" class=\"sister\" id=\"link1\">\n",
      "    Elsie\n",
      "   </a>\n",
      "   ,\n",
      "   <a href=\"http://example.com/lacie\" class=\"sister\" id=\"link2\">\n",
      "    Lacie\n",
      "   </a>\n",
      "   and\n",
      "   <a href=\"http://example.com/tillie\" class=\"sister\" id=\"link3\">\n",
      "    Tillie\n",
      "   </a>\n",
      "   ;\n",
      "and they lived at the bottom of a well.\n",
      "  </p>\n",
      "  <p class=\"story\">\n",
      "   ...\n",
      "  </p>\n",
      " </body>\n",
      "</html>\n"
     ]
    }
   ],
   "source": [
    "html_doc = \"\"\"\n",
    "<html><head><title>The Dormouse's story</title></head>\n",
    "<body>\n",
    "<p class=\"title\"><b>The Dormouse's story</b></p>\n",
    "\n",
    "<p class=\"story\">Once upon a time there were three little sisters; and their names were\n",
    "<a href=\"http://example.com/elsie\" class=\"sister\" id=\"link1\">Elsie</a>,\n",
    "<a href=\"http://example.com/lacie\" class=\"sister\" id=\"link2\">Lacie</a> and\n",
    "<a href=\"http://example.com/tillie\" class=\"sister\" id=\"link3\">Tillie</a>;\n",
    "and they lived at the bottom of a well.</p>\n",
    "\n",
    "<p class=\"story\">...</p>\n",
    "\"\"\"\n",
    "\n",
    "from BeautifulSoup import BeautifulSoup\n",
    "soup = BeautifulSoup(html_doc)\n",
    "\n",
    "print(soup.prettify())\n",
    "# <html>\n",
    "#  <head>\n",
    "#   <title>\n",
    "#    The Dormouse's story\n",
    "#   </title>\n",
    "#  </head>\n",
    "#  <body>\n",
    "#   <p class=\"title\">\n",
    "#    <b>\n",
    "#     The Dormouse's story\n",
    "#    </b>\n",
    "#   </p>\n",
    "#   <p class=\"story\">\n",
    "#    Once upon a time there were three little sisters; and their names were\n",
    "#    <a class=\"sister\" href=\"http://example.com/elsie\" id=\"link1\">\n",
    "#     Elsie\n",
    "#    </a>\n",
    "#    ,\n",
    "#    <a class=\"sister\" href=\"http://example.com/lacie\" id=\"link2\">\n",
    "#     Lacie\n",
    "#    </a>\n",
    "#    and\n",
    "#    <a class=\"sister\" href=\"http://example.com/tillie\" id=\"link2\">\n",
    "#     Tillie\n",
    "#    </a>\n",
    "#    ; and they lived at the bottom of a well.\n",
    "#   </p>\n",
    "#   <p class=\"story\">\n",
    "#    ...\n",
    "#   </p>\n",
    "#  </body>\n",
    "# </html>"
   ]
  },
  {
   "cell_type": "code",
   "execution_count": 7,
   "metadata": {
    "collapsed": false
   },
   "outputs": [
    {
     "data": {
      "text/plain": [
       "<title>The Dormouse's story</title>"
      ]
     },
     "execution_count": 7,
     "metadata": {},
     "output_type": "execute_result"
    }
   ],
   "source": [
    "soup.title\n",
    "# <title>The Dormouse's story</title>\n"
   ]
  },
  {
   "cell_type": "code",
   "execution_count": 8,
   "metadata": {
    "collapsed": false
   },
   "outputs": [
    {
     "data": {
      "text/plain": [
       "u'title'"
      ]
     },
     "execution_count": 8,
     "metadata": {},
     "output_type": "execute_result"
    }
   ],
   "source": [
    "\n",
    "soup.title.name\n",
    "# u'title'\n"
   ]
  },
  {
   "cell_type": "code",
   "execution_count": 9,
   "metadata": {
    "collapsed": false
   },
   "outputs": [
    {
     "data": {
      "text/plain": [
       "u\"The Dormouse's story\""
      ]
     },
     "execution_count": 9,
     "metadata": {},
     "output_type": "execute_result"
    }
   ],
   "source": [
    "\n",
    "soup.title.string\n",
    "# u'The Dormouse's story'\n"
   ]
  },
  {
   "cell_type": "code",
   "execution_count": 10,
   "metadata": {
    "collapsed": false
   },
   "outputs": [
    {
     "name": "stdout",
     "output_type": "stream",
     "text": [
      "head\n"
     ]
    }
   ],
   "source": [
    "print soup.title.parent.name\n",
    "# u'head'"
   ]
  },
  {
   "cell_type": "code",
   "execution_count": 11,
   "metadata": {
    "collapsed": false
   },
   "outputs": [
    {
     "data": {
      "text/plain": [
       "<p class=\"title\"><b>The Dormouse's story</b></p>"
      ]
     },
     "execution_count": 11,
     "metadata": {},
     "output_type": "execute_result"
    }
   ],
   "source": [
    "soup.p\n",
    "# <p class=\"title\"><b>The Dormouse's story</b></p>\n"
   ]
  },
  {
   "cell_type": "code",
   "execution_count": 12,
   "metadata": {
    "collapsed": false
   },
   "outputs": [
    {
     "data": {
      "text/plain": [
       "u'title'"
      ]
     },
     "execution_count": 12,
     "metadata": {},
     "output_type": "execute_result"
    }
   ],
   "source": [
    "soup.p['class']\n",
    "# u'title'"
   ]
  },
  {
   "cell_type": "code",
   "execution_count": 13,
   "metadata": {
    "collapsed": false
   },
   "outputs": [
    {
     "data": {
      "text/plain": [
       "<a href=\"http://example.com/elsie\" class=\"sister\" id=\"link1\">Elsie</a>"
      ]
     },
     "execution_count": 13,
     "metadata": {},
     "output_type": "execute_result"
    }
   ],
   "source": [
    "soup.a\n",
    "# <a class=\"sister\" href=\"http://example.com/elsie\" id=\"link1\">Elsie</a>\n"
   ]
  },
  {
   "cell_type": "code",
   "execution_count": 14,
   "metadata": {
    "collapsed": false
   },
   "outputs": [
    {
     "name": "stdout",
     "output_type": "stream",
     "text": [
      "['_findAll', '_findOne', 'find', 'findAll', 'findAllNext', 'findAllPrevious', 'findChild', 'findChildren', 'findNext', 'findNextSibling', 'findNextSiblings', 'findParent', 'findParents', 'findPrevious', 'findPreviousSibling', 'findPreviousSiblings']\n",
      "[<a href=\"http://example.com/elsie\" class=\"sister\" id=\"link1\">Elsie</a>, <a href=\"http://example.com/lacie\" class=\"sister\" id=\"link2\">Lacie</a>, <a href=\"http://example.com/tillie\" class=\"sister\" id=\"link3\">Tillie</a>]\n"
     ]
    }
   ],
   "source": [
    "from BeautifulSoup import BeautifulSoup\n",
    "soup = BeautifulSoup(html_doc)\n",
    "print [x for x in dir(soup) if 'find' in x]\n",
    "print soup.findAll('a')\n",
    "# [<a class=\"sister\" href=\"http://example.com/elsie\" id=\"link1\">Elsie</a>,\n",
    "#  <a class=\"sister\" href=\"http://example.com/lacie\" id=\"link2\">Lacie</a>,\n",
    "#  <a class=\"sister\" href=\"http://example.com/tillie\" id=\"link3\">Tillie</a>]\n"
   ]
  },
  {
   "cell_type": "code",
   "execution_count": 16,
   "metadata": {
    "collapsed": false
   },
   "outputs": [
    {
     "data": {
      "text/plain": [
       "<a href=\"http://example.com/tillie\" class=\"sister\" id=\"link3\">Tillie</a>"
      ]
     },
     "execution_count": 16,
     "metadata": {},
     "output_type": "execute_result"
    }
   ],
   "source": [
    "soup.find(id=\"link3\")\n",
    "# <a class=\"sister\" href=\"http://example.com/tillie\" id=\"link3\">Tillie</a>"
   ]
  },
  {
   "cell_type": "code",
   "execution_count": 18,
   "metadata": {
    "collapsed": false
   },
   "outputs": [
    {
     "name": "stdout",
     "output_type": "stream",
     "text": [
      "http://example.com/elsie\n",
      "http://example.com/lacie\n",
      "http://example.com/tillie\n"
     ]
    }
   ],
   "source": [
    "#  extracting all the URLs found within a page’s <a> tags:\n",
    "for link in soup.findAll('a'):\n",
    "    print(link.get('href'))\n",
    "# http://example.com/elsie\n",
    "# http://example.com/lacie\n",
    "# http://example.com/tillie\n"
   ]
  },
  {
   "cell_type": "code",
   "execution_count": 19,
   "metadata": {
    "collapsed": false
   },
   "outputs": [
    {
     "name": "stdout",
     "output_type": "stream",
     "text": [
      "['_SGMLParser__starttag_text', 'get_starttag_text', 'text']\n",
      "The Dormouse's storyThe Dormouse's storyOnce upon a time there were three little sisters; and their names wereElsie,LacieandTillie;\n",
      "and they lived at the bottom of a well....\n"
     ]
    }
   ],
   "source": [
    "#Another common task is extracting all the text from a page:\n",
    "from BeautifulSoup import BeautifulSoup\n",
    "soup = BeautifulSoup(html_doc)\n",
    "print  [x for x in dir(soup) if 'text' in x]\n",
    "print(soup.text)\n"
   ]
  },
  {
   "cell_type": "markdown",
   "metadata": {},
   "source": [
    "### XML Parsing"
   ]
  },
  {
   "cell_type": "markdown",
   "metadata": {},
   "source": [
    "```xml\n",
    "<data>\n",
    "    <items>\n",
    "        <item name=\"item1\"></item>\n",
    "        <item name=\"item2\"></item>\n",
    "        <item name=\"item3\"></item>\n",
    "        <item name=\"item4\"></item>\n",
    "    </items>\n",
    "</data>\n",
    "```"
   ]
  },
  {
   "cell_type": "code",
   "execution_count": 21,
   "metadata": {
    "collapsed": false
   },
   "outputs": [
    {
     "name": "stdout",
     "output_type": "stream",
     "text": [
      "4\n",
      "item1\n",
      "item2\n",
      "item3\n",
      "item4\n"
     ]
    }
   ],
   "source": [
    "from xml.dom import minidom\n",
    "xmldoc = minidom.parse('sample.xml')\n",
    "itemlist = xmldoc.getElementsByTagName('item')\n",
    "print(len(itemlist))\n",
    "#print(itemlist[0].attributes['name'].value)\n",
    "for s in itemlist:\n",
    "    print(s.attributes['name'].value)"
   ]
  },
  {
   "cell_type": "markdown",
   "metadata": {},
   "source": [
    "__lxml__ is another library.\n",
    "\n",
    "New libraries keep coming.\n",
    "\n",
    "E.g.: __untangle__\n",
    "* untangle is a simple library which takes an XML document and returns a Python object which mirrors the nodes and attributes in its structure.\n",
    "\n",
    "* xmltodict is another simple library that aims at making XML feel like working with JSON."
   ]
  },
  {
   "cell_type": "code",
   "execution_count": null,
   "metadata": {
    "collapsed": false
   },
   "outputs": [],
   "source": [
    "import untangle\n",
    "obj = untangle.parse('sample.xml')\n",
    "obj.root.child['name']"
   ]
  },
  {
   "cell_type": "markdown",
   "metadata": {},
   "source": [
    "```xml\n",
    "<mydocument has=\"an attribute\">\n",
    "  <and>\n",
    "    <many>elements</many>\n",
    "    <many>more elements</many>\n",
    "  </and>\n",
    "  <plus a=\"complex\">\n",
    "    element as well\n",
    "  </plus>\n",
    "</mydocument>\n",
    "```"
   ]
  },
  {
   "cell_type": "code",
   "execution_count": 27,
   "metadata": {
    "collapsed": false
   },
   "outputs": [
    {
     "name": "stdout",
     "output_type": "stream",
     "text": [
      "<mydocument has=\"an attribute\">\r\n",
      "  <and>\r\n",
      "    <many>elements</many>\r\n",
      "    <many>more elements</many>\r\n",
      "  </and>\r\n",
      "  <plus a=\"complex\">\r\n",
      "    element as well\r\n",
      "  </plus>\r\n",
      "</mydocument>\r\n",
      "\r\n",
      "\r\n"
     ]
    }
   ],
   "source": [
    "\n",
    "!cat sample2.xml\n",
    "\n"
   ]
  },
  {
   "cell_type": "code",
   "execution_count": 26,
   "metadata": {
    "collapsed": false
   },
   "outputs": [
    {
     "name": "stdout",
     "output_type": "stream",
     "text": [
      "an attribute\n",
      "[u'elements', u'more elements']\n",
      "complex\n",
      "element as well\n"
     ]
    }
   ],
   "source": [
    "import xmltodict\n",
    "\n",
    "with open('sample2.xml') as fd:\n",
    "    doc = xmltodict.parse(fd.read())\n",
    "    \n",
    "#and then you can access elements, attributes and values like this:\n",
    "\n",
    "print doc['mydocument']['@has'] # == u'an attribute'\n",
    "print doc['mydocument']['and']['many'] # == [u'elements', u'more elements']\n",
    "print doc['mydocument']['plus']['@a'] # == u'complex'\n",
    "print doc['mydocument']['plus']['#text'] # == u'element as well'\n",
    "\n"
   ]
  },
  {
   "cell_type": "code",
   "execution_count": null,
   "metadata": {
    "collapsed": false
   },
   "outputs": [],
   "source": [
    "import simplejson"
   ]
  },
  {
   "cell_type": "markdown",
   "metadata": {},
   "source": [
    "```python\n",
    "    >>> import simplejson as json\n",
    "    >>> json.dumps(['foo', {'bar': ('baz', None, 1.0, 2)}])\n",
    "    '[\"foo\", {\"bar\": [\"baz\", null, 1.0, 2]}]'\n",
    "    >>> print(json.dumps(\"\\\"foo\\bar\"))\n",
    "    \"\\\"foo\\bar\"\n",
    "    >>> print(json.dumps(u'\\u1234'))\n",
    "    \"\\u1234\"\n",
    "    >>> print(json.dumps('\\\\'))\n",
    "    \"\\\\\"\n",
    "    >>> print(json.dumps({\"c\": 0, \"b\": 0, \"a\": 0}, sort_keys=True))\n",
    "    {\"a\": 0, \"b\": 0, \"c\": 0}\n",
    "\n",
    "```"
   ]
  }
 ],
 "metadata": {
  "kernelspec": {
   "display_name": "Python 2",
   "language": "python",
   "name": "python2"
  },
  "language_info": {
   "codemirror_mode": {
    "name": "ipython",
    "version": 2
   },
   "file_extension": ".py",
   "mimetype": "text/x-python",
   "name": "python",
   "nbconvert_exporter": "python",
   "pygments_lexer": "ipython2",
   "version": "2.7.6"
  }
 },
 "nbformat": 4,
 "nbformat_minor": 0
}
